{
 "cells": [
  {
   "cell_type": "markdown",
   "metadata": {},
   "source": [
    "# Notebook destinado a Parte 1 - Resolvendo um Problema Linearmente Separável do Projeto 2 de Redes Neurais 2020.1\n",
    "## Colaboradores: Jakson Protázio e Nadine Brito"
   ]
  },
  {
   "cell_type": "markdown",
   "metadata": {},
   "source": [
    "Primeiro importamos as bibliotecas necessárias."
   ]
  },
  {
   "cell_type": "code",
   "execution_count": 30,
   "metadata": {},
   "outputs": [],
   "source": [
    "import numpy as np\n",
    "import random\n",
    "import matplotlib.pyplot as plt"
   ]
  },
  {
   "cell_type": "markdown",
   "metadata": {},
   "source": [
    "Em seguida realizamos a leitura do dataset. "
   ]
  },
  {
   "cell_type": "code",
   "execution_count": 31,
   "metadata": {
    "scrolled": false,
    "tags": []
   },
   "outputs": [
    {
     "name": "stdout",
     "output_type": "stream",
     "text": [
      "[[-363.7884  244.1423    0.    ]\n",
      " [ 328.7572 -256.7658    1.    ]\n",
      " [-164.9827  613.2164    0.    ]\n",
      " ...\n",
      " [ 872.4311  669.1192    1.    ]\n",
      " [ 822.6894 -702.6489    1.    ]\n",
      " [-140.147   734.0983    0.    ]]\n"
     ]
    }
   ],
   "source": [
    "dataset=np.fromfile('data/dataAll.txt')\n",
    "linhas = len(dataset)//3\n",
    "colunas=3\n",
    "dataset=dataset.reshape(linhas, colunas)\n",
    "print(dataset)"
   ]
  },
  {
   "cell_type": "markdown",
   "metadata": {},
   "source": [
    "No passo seguinte iremos iniciar o preenchimento do vetor de pesos."
   ]
  },
  {
   "cell_type": "code",
   "execution_count": 32,
   "metadata": {
    "tags": []
   },
   "outputs": [
    {
     "name": "stdout",
     "output_type": "stream",
     "text": [
      "[-0.31218882 -0.33580637  0.18078557]\n"
     ]
    }
   ],
   "source": [
    "pesos = np.array([random.uniform(-0.5,0.5),random.uniform(-0.5,0.5),random.uniform(-0.5,0.5)])\n",
    "    \n",
    "print(pesos)"
   ]
  },
  {
   "cell_type": "markdown",
   "metadata": {},
   "source": [
    "Agora verificamos, através de uma soma ponderada e uma função de ativação, se os pesos precisam de ajuste. Para isso, primeiro, preenchemos um vetor com as entradas do dataset."
   ]
  },
  {
   "cell_type": "code",
   "execution_count": 33,
   "metadata": {
    "tags": []
   },
   "outputs": [
    {
     "name": "stdout",
     "output_type": "stream",
     "text": [
      "[[  -1.     -363.7884  244.1423]\n",
      " [  -1.      328.7572 -256.7658]\n",
      " [  -1.     -164.9827  613.2164]\n",
      " ...\n",
      " [  -1.      872.4311  669.1192]\n",
      " [  -1.      822.6894 -702.6489]\n",
      " [  -1.     -140.147   734.0983]]\n"
     ]
    }
   ],
   "source": [
    "entradas = np.array([[-1, dataset[0,0], dataset[0,1]]])\n",
    "for i in range(1, linhas):\n",
    "    entradas = np.append(entradas, [[-1, dataset[i,0], dataset[i,1]]], axis=0)\n",
    "print(entradas)"
   ]
  },
  {
   "cell_type": "markdown",
   "metadata": {},
   "source": [
    "Agora definimos a função que irá realizar a soma ponderada."
   ]
  },
  {
   "cell_type": "code",
   "execution_count": 34,
   "metadata": {},
   "outputs": [],
   "source": [
    "def soma(entradas,pesos):\n",
    "    return(np.dot(entradas,pesos))"
   ]
  },
  {
   "cell_type": "markdown",
   "metadata": {},
   "source": [
    "Em seguida definimos a função de ativação. Nesse cenário, a pedido do enunciado, adotou-se a função de ativação degrau com limiar sendo 0."
   ]
  },
  {
   "cell_type": "code",
   "execution_count": 35,
   "metadata": {
    "tags": []
   },
   "outputs": [],
   "source": [
    "def ativacao(saida):\n",
    "    if(saida >= 0):\n",
    "        return 1\n",
    "    else:\n",
    "        return 0  "
   ]
  },
  {
   "cell_type": "markdown",
   "metadata": {},
   "source": [
    "Definimos também a função de ajuste de pesos."
   ]
  },
  {
   "cell_type": "code",
   "execution_count": 36,
   "metadata": {
    "tags": []
   },
   "outputs": [],
   "source": [
    "def ajusta(pesos_atuais, yd, y, x):\n",
    "    taxa = 0.1\n",
    "    erro = (yd-y)\n",
    "    mult = taxa*erro\n",
    "    result = pesos_atuais + np.dot(mult,x)\n",
    "    return result\n"
   ]
  },
  {
   "cell_type": "markdown",
   "metadata": {},
   "source": [
    "A função verifica, será responsável por fazer a chamada das funções para realizar a soma ponderada, função de ativação e a função de ajuste de pesos."
   ]
  },
  {
   "cell_type": "code",
   "execution_count": 37,
   "metadata": {
    "tags": []
   },
   "outputs": [],
   "source": [
    "def verifica(pesos):\n",
    "    qtde_ajuste = 0\n",
    "    n = len(entradas)\n",
    "    \n",
    "    for i in range(n):\n",
    "        soma_saida = soma(entradas[i], pesos)\n",
    "        y = ativacao(soma_saida)\n",
    "        if(y != dataset[i,2]):\n",
    "            pesos = ajusta(pesos,dataset[i,2],y,entradas[i])\n",
    "            qtde_ajuste += 1\n",
    "            print(\"Pesos ajustados\")\n",
    "            print(pesos)\n",
    "    \n",
    "    return pesos,qtde_ajuste"
   ]
  },
  {
   "cell_type": "markdown",
   "metadata": {},
   "source": [
    "Para dar início ao aprendizado colocamos a chamada da função verifica() em loop, onde a condição de parada é a convergência, ou seja, quando não há mais erros para os exemplos no conjunto de treinamento."
   ]
  },
  {
   "cell_type": "code",
   "execution_count": 38,
   "metadata": {
    "scrolled": true,
    "tags": []
   },
   "outputs": [
    {
     "name": "stdout",
     "output_type": "stream",
     "text": [
      "Pesos ajustados\n",
      "[ -0.21218882  36.04303363 -24.23344443]\n",
      "Pesos ajustados\n",
      "[  -0.11218882  -17.61601637 -100.72919443]\n",
      "Pesos ajustados\n",
      "[ -0.21218882  55.18000363 -64.89963443]\n",
      "Pesos ajustados\n",
      "[ -0.31218882 137.77870363  14.95619557]\n",
      "Pesos ajustados\n",
      "[ -0.21218882 143.62446363 -63.33839443]\n",
      "Pesos ajustados\n",
      "[-1.12188816e-01  1.03615554e+02 -1.41231084e+02]\n",
      "Pesos ajustados\n",
      "[-1.21888158e-02  1.57285364e+02 -9.21388144e+01]\n",
      "Pesos ajustados\n",
      "[-1.12188816e-01  1.04325304e+02 -1.49008274e+02]\n",
      "Pesos ajustados\n",
      "[-1.21888158e-02  1.63884824e+02 -9.88859444e+01]\n",
      "Pesos ajustados\n",
      "[-1.12188816e-01  1.18360194e+02 -1.64521874e+02]\n",
      "Pesos ajustados\n",
      "[-1.21888158e-02  2.09076054e+02 -8.98085544e+01]\n",
      "Pesos ajustados\n",
      "[-1.12188816e-01  1.51295064e+02 -1.50116704e+02]\n",
      "Pesos ajustados\n",
      "[  -0.21218882  103.02850363 -198.58642443]\n",
      "Pesos ajustados\n",
      "[  -0.31218882  173.47585363 -156.47015443]\n",
      "Pesos ajustados\n",
      "[  -0.41218882  126.63385363 -207.88002443]\n",
      "Pesos ajustados\n",
      "[  -0.51218882  196.49748363 -143.66108443]\n",
      "Pesos ajustados\n",
      "[  -0.41218882  140.66175363 -199.83861443]\n",
      "Pesos ajustados\n",
      "[  -0.51218882  217.64922363 -134.98928443]\n",
      "Pesos ajustados\n",
      "[  -0.61218882  181.37918363 -178.21732443]\n",
      "Pesos ajustados\n",
      "[  -0.51218882  163.14004363 -196.55096443]\n",
      "Pesos ajustados\n",
      "[  -0.61218882  238.56248363 -130.49585443]\n",
      "Pesos ajustados\n",
      "[  -0.71218882  174.20335363 -212.91829443]\n",
      "Pesos ajustados\n",
      "[  -0.61218882  265.51156363 -129.64752443]\n",
      "Pesos ajustados\n",
      "[  -0.71218882  218.46673363 -217.55146443]\n"
     ]
    }
   ],
   "source": [
    "ajustes = np.array([])\n",
    "\n",
    "parar = False\n",
    "epocas = 0\n",
    "\n",
    "while(parar==False):\n",
    "    resultado = verifica(pesos)\n",
    "    pesos = resultado[0]\n",
    "    ajustes = np.append(ajustes,[resultado[1]])\n",
    "    indice = len(ajustes)\n",
    "    if(ajustes[indice-1] == 0):\n",
    "        parar = True\n",
    "    epocas += 1"
   ]
  },
  {
   "cell_type": "code",
   "execution_count": 39,
   "metadata": {
    "tags": []
   },
   "outputs": [
    {
     "name": "stdout",
     "output_type": "stream",
     "text": [
      "Ao final da execução do algoritmo, podemos verificar que houve um total de  24  ajuste(s) realizados nos pesos. Para a convergência foram necessárias um total de  2  épocas. Abaixo pode-se visualizar a quantidade de ajustes realizados em cada época.\n",
      "\n",
      "Época  1  =>  24  ajustes\n",
      "Época  2  =>  0  ajustes\n"
     ]
    }
   ],
   "source": [
    "ajustes = ajustes.astype(int)\n",
    "total_ajustes = np.sum(ajustes)\n",
    "\n",
    "print('Ao final da execução do algoritmo, podemos verificar que houve um total de ',total_ajustes,' ajuste(s) realizados nos pesos. Para a convergência foram necessárias um total de ',epocas,' épocas. Abaixo pode-se visualizar a quantidade de ajustes realizados em cada época.')\n",
    "print('')\n",
    "\n",
    "for i in range(0,len(ajustes)):\n",
    "    print('Época ',i+1,' => ', ajustes[i],' ajustes')"
   ]
  },
  {
   "cell_type": "markdown",
   "metadata": {},
   "source": [
    "Sendo assim foi gerado o gráfico contendo todos os exemplos do conjunto de dados bem como a reta que separa as classses. "
   ]
  },
  {
   "cell_type": "code",
   "execution_count": 40,
   "metadata": {
    "tags": []
   },
   "outputs": [
    {
     "data": {
      "image/png": "[encoded data removed]",
      "text/plain": [
       "<Figure size 432x288 with 1 Axes>"
      ]
     },
     "metadata": {},
     "output_type": "display_data"
    }
   ],
   "source": [
    "resultado_0x = np.array([])\n",
    "resultado_0y = np.array([])\n",
    "resultado_1x = np.array([])\n",
    "resultado_1y = np.array([])\n",
    "\n",
    "for i in range (len(dataset)):\n",
    "    if(dataset[i,2] == 0):\n",
    "        resultado_0x = np.append(resultado_0x,[dataset[i,0]])\n",
    "        resultado_0y = np.append(resultado_0y,[dataset[i,1]])\n",
    "    else:\n",
    "        resultado_1x = np.append(resultado_1x,[dataset[i,0]])\n",
    "        resultado_1y = np.append(resultado_1y, [dataset[i,1]])\n",
    "\n",
    "plt.scatter(resultado_1x,resultado_1y, color='blue')\n",
    "plt.plot()\n",
    "        \n",
    "plt.scatter(resultado_0x,resultado_0y, color='red')\n",
    "plt.plot()\n",
    "\n",
    "x2 = (pesos[0]/pesos[2])\n",
    "x1 = (pesos[0]/pesos[2])/(pesos[1]/pesos[2]) \n",
    "\n",
    "m = (0-x2)/x1-0\n",
    "n = x2 - m*x1\n",
    "\n",
    "abscissa = np.array([])\n",
    "ordenada = np.array([])\n",
    "\n",
    "for i in range(len(dataset)):\n",
    "\n",
    "    y = m*(dataset[i,0])+n\n",
    "\n",
    "    abscissa = np.append(abscissa, [y])\n",
    "    ordenada = np.append(ordenada, dataset[i,0])\n",
    "\n",
    "plt.xlabel(\"X1\")\n",
    "plt.ylabel(\"X2\")\n",
    "plt.plot(abscissa,ordenada,color='green')\n",
    "plt.show()\n"
   ]
  },
  {
   "cell_type": "markdown",
   "metadata": {},
   "source": [
    "Podemos visualizar que os dados representados pela cor azul são aqueles fizeram com que o neurônio fosse ativado, enquanto os da cor vermelha não obtiveram sucesso na ativação."
   ]
  }
 ],
 "metadata": {
  "kernelspec": {
   "display_name": "Python 3",
   "language": "python",
   "name": "python3"
  },
  "language_info": {
   "codemirror_mode": {
    "name": "ipython",
    "version": 3
   },
   "file_extension": ".py",
   "mimetype": "text/x-python",
   "name": "python",
   "nbconvert_exporter": "python",
   "pygments_lexer": "ipython3",
   "version": "3.8.5"
  }
 },
 "nbformat": 4,
 "nbformat_minor": 4
}
