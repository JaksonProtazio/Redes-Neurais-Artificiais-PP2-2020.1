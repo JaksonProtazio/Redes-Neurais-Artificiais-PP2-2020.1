{
 "cells": [
  {
   "cell_type": "markdown",
   "metadata": {},
   "source": [
    "# Notebook destinado a Parte 1 - Resolvendo um Problema Linearmente Separável do Projeto 2 de Redes Neurais 2020.1\n",
    "## Colaboradores: Jakson Protázio e Nadine Brito"
   ]
  },
  {
   "cell_type": "markdown",
   "metadata": {},
   "source": [
    "Primeiro importamos as bibliotecas necessárias."
   ]
  },
  {
   "cell_type": "code",
   "execution_count": 23,
   "metadata": {},
   "outputs": [],
   "source": [
    "import numpy as np\n",
    "import random"
   ]
  },
  {
   "cell_type": "markdown",
   "metadata": {},
   "source": [
    "Em seguida realizamos a leitura do dataset. "
   ]
  },
  {
   "cell_type": "code",
   "execution_count": 24,
   "metadata": {
    "scrolled": false,
    "tags": []
   },
   "outputs": [
    {
     "name": "stdout",
     "output_type": "stream",
     "text": [
      "[[-363.7884  244.1423    0.    ]\n",
      " [ 328.7572 -256.7658    1.    ]\n",
      " [-164.9827  613.2164    0.    ]\n",
      " ...\n",
      " [ 872.4311  669.1192    1.    ]\n",
      " [ 822.6894 -702.6489    1.    ]\n",
      " [-140.147   734.0983    0.    ]]\n"
     ]
    }
   ],
   "source": [
    "dataset=np.fromfile('data/dataAll.txt')\n",
    "linhas = len(dataset)//3\n",
    "colunas=3\n",
    "dataset=dataset.reshape(linhas, colunas)\n",
    "print(dataset)"
   ]
  },
  {
   "cell_type": "markdown",
   "metadata": {},
   "source": [
    "No passo seguinte iremos iniciar o preenchimento do vetor de pesos."
   ]
  },
  {
   "cell_type": "code",
   "execution_count": 25,
   "metadata": {
    "tags": []
   },
   "outputs": [
    {
     "name": "stdout",
     "output_type": "stream",
     "text": [
      "[-0.27655766  0.28003694 -0.0502662 ]\n"
     ]
    }
   ],
   "source": [
    "pesos = np.array([random.uniform(-0.5,0.5),random.uniform(-0.5,0.5),random.uniform(-0.5,0.5)])\n",
    "    \n",
    "print(pesos)"
   ]
  },
  {
   "cell_type": "markdown",
   "metadata": {},
   "source": [
    "Agora verificamos, através de uma soma ponderada e uma função de ativação, se os pesos precisam de ajuste. Para isso, primeiro, preenchemos um vetor com as entradas do dataset."
   ]
  },
  {
   "cell_type": "code",
   "execution_count": 26,
   "metadata": {
    "tags": []
   },
   "outputs": [
    {
     "name": "stdout",
     "output_type": "stream",
     "text": [
      "[[  -1.     -363.7884  244.1423]\n",
      " [  -1.      328.7572 -256.7658]\n",
      " [  -1.     -164.9827  613.2164]\n",
      " ...\n",
      " [  -1.      872.4311  669.1192]\n",
      " [  -1.      822.6894 -702.6489]\n",
      " [  -1.     -140.147   734.0983]]\n"
     ]
    }
   ],
   "source": [
    "entradas = np.array([[-1, dataset[0,0], dataset[0,1]]])\n",
    "for i in range(1, linhas):\n",
    "    entradas = np.append(entradas, [[-1, dataset[i,0], dataset[i,1]]], axis=0)\n",
    "print(entradas)"
   ]
  },
  {
   "cell_type": "markdown",
   "metadata": {},
   "source": [
    "Agora definimos a função que irá realizar a soma ponderada."
   ]
  },
  {
   "cell_type": "code",
   "execution_count": 27,
   "metadata": {},
   "outputs": [],
   "source": [
    "def soma(entradas,pesos):\n",
    "    return(np.dot(entradas,pesos))"
   ]
  },
  {
   "cell_type": "markdown",
   "metadata": {},
   "source": [
    "Em seguida definimos a função de ativação. Nesse cenário, a pedido do enunciado, adotou-se a função de ativação degrau com limiar sendo 0."
   ]
  },
  {
   "cell_type": "code",
   "execution_count": 28,
   "metadata": {
    "tags": []
   },
   "outputs": [],
   "source": [
    "def ativacao(saida):\n",
    "    if(saida >= 0):\n",
    "        return 1\n",
    "    else:\n",
    "        return 0  "
   ]
  },
  {
   "cell_type": "markdown",
   "metadata": {},
   "source": [
    "Definimos também a função de ajuste de pesos."
   ]
  },
  {
   "cell_type": "code",
   "execution_count": 29,
   "metadata": {
    "tags": []
   },
   "outputs": [],
   "source": [
    "def ajusta(pesos_atuais, yd, y, x):\n",
    "    taxa = 0.1\n",
    "    erro = (yd-y)\n",
    "    mult = taxa*erro\n",
    "    result = pesos_atuais + np.dot(mult,x)\n",
    "    return result\n"
   ]
  },
  {
   "cell_type": "markdown",
   "metadata": {},
   "source": [
    "A função verifica, será responsável por fazer a chamada das funções para realizar a soma ponderada, função de ativação e a função de ajuste de pesos."
   ]
  },
  {
   "cell_type": "code",
   "execution_count": 30,
   "metadata": {
    "tags": []
   },
   "outputs": [],
   "source": [
    "def verifica(pesos):\n",
    "    qtde_ajuste = 0\n",
    "    n = len(entradas)\n",
    "    \n",
    "    for i in range(n):\n",
    "        soma_saida = soma(entradas[i], pesos)\n",
    "        y = ativacao(soma_saida)\n",
    "        if(y != dataset[i,2]):\n",
    "            pesos = ajusta(pesos,dataset[i,2],y,entradas[i])\n",
    "            qtde_ajuste += 1\n",
    "            print(\"Pesos ajustados\")\n",
    "            print(pesos)\n",
    "    \n",
    "    return pesos,qtde_ajuste"
   ]
  },
  {
   "cell_type": "markdown",
   "metadata": {},
   "source": [
    "Para dar início ao aprendizado colocamos a chamada da função verifica() em loop, onde a condição de parada é a convergência, ou seja, quando não há mais erros para os exemplos no conjunto de treinamento."
   ]
  },
  {
   "cell_type": "code",
   "execution_count": 31,
   "metadata": {
    "scrolled": true
   },
   "outputs": [
    {
     "name": "stdout",
     "output_type": "stream",
     "text": [
      "Pesos ajustados\n",
      "[ -0.17655766 -53.37901306 -76.5460162 ]\n",
      "Pesos ajustados\n",
      "[ -0.27655766  19.41700694 -40.7164562 ]\n",
      "Pesos ajustados\n",
      "[ -0.37655766 102.01570694  39.1393738 ]\n",
      "Pesos ajustados\n",
      "[ -0.27655766 107.86146694 -39.1552162 ]\n",
      "Pesos ajustados\n",
      "[  -0.17655766   67.85255694 -117.0479062 ]\n",
      "Pesos ajustados\n",
      "[-7.65576591e-02  1.26295477e+02 -7.54676262e+01]\n",
      "Pesos ajustados\n",
      "[  -0.17655766   73.33541694 -132.3370862 ]\n",
      "Pesos ajustados\n",
      "[-7.65576591e-02  1.32894937e+02 -8.22147562e+01]\n",
      "Pesos ajustados\n",
      "[  -0.17655766   87.37030694 -147.8506862 ]\n",
      "Pesos ajustados\n",
      "[-7.65576591e-02  1.01708737e+02 -1.38464466e+02]\n",
      "Pesos ajustados\n",
      "[ 2.34423409e-02  1.92424597e+02 -6.37511462e+01]\n",
      "Pesos ajustados\n",
      "[-7.65576591e-02  1.34643607e+02 -1.24059296e+02]\n",
      "Pesos ajustados\n",
      "[  -0.17655766   84.73378694 -175.3197262 ]\n",
      "Pesos ajustados\n",
      "[  -0.27655766  112.55751694 -157.2648062 ]\n",
      "Pesos ajustados\n",
      "[  -0.37655766  140.02110694 -136.4084562 ]\n",
      "Pesos ajustados\n",
      "[  -0.47655766   71.16542694 -206.4787562 ]\n",
      "Pesos ajustados\n",
      "[  -0.37655766  102.61581694 -182.0473562 ]\n",
      "Pesos ajustados\n",
      "[  -0.47655766  165.51312694 -123.8603962 ]\n",
      "Pesos ajustados\n",
      "[  -0.37655766  116.39599694 -175.7092962 ]\n",
      "Pesos ajustados\n",
      "[  -0.47655766  182.87590694 -123.7034562 ]\n",
      "Pesos ajustados\n",
      "[  -0.37655766  129.72184694 -197.6193762 ]\n",
      "Pesos ajustados\n",
      "[  -0.27655766  226.10147694 -119.5214762 ]\n",
      "Pesos ajustados\n",
      "[  -0.37655766  128.69003694 -218.6926862 ]\n",
      "Pesos ajustados\n",
      "[  -0.47655766  222.47562694 -150.1988162 ]\n",
      "Pesos ajustados\n",
      "[  -0.37655766  151.85110694 -234.3445062 ]\n",
      "Pesos ajustados\n",
      "[  -0.47655766  236.20953694 -172.5317762 ]\n",
      "Pesos ajustados\n",
      "[  -0.57655766  176.51728694 -234.7362662 ]\n",
      "Pesos ajustados\n",
      "[  -0.47655766  241.47204694 -171.5141162 ]\n",
      "Pesos ajustados\n",
      "[  -0.37655766  159.81073694 -254.3914962 ]\n",
      "Pesos ajustados\n",
      "[  -0.47655766  229.67436694 -190.1725562 ]\n",
      "Pesos ajustados\n",
      "[  -0.37655766  173.83863694 -246.3500862 ]\n",
      "Pesos ajustados\n",
      "[  -0.47655766  250.82610694 -181.5007562 ]\n",
      "Pesos ajustados\n",
      "[  -0.57655766  214.55606694 -224.7287962 ]\n",
      "Pesos ajustados\n",
      "[  -0.67655766  297.44793694 -141.9473062 ]\n",
      "Pesos ajustados\n",
      "[  -0.77655766  251.30055694 -198.5966862 ]\n",
      "Pesos ajustados\n",
      "[  -0.67655766  224.67493694 -231.1190562 ]\n",
      "Pesos ajustados\n",
      "[  -0.77655766  271.69929694 -184.5648862 ]\n",
      "Pesos ajustados\n",
      "[  -0.87655766  241.81523694 -217.6742162 ]\n",
      "Pesos ajustados\n",
      "[  -0.77655766  223.57609694 -236.0078562 ]\n",
      "Pesos ajustados\n",
      "[  -0.67655766  254.88297694 -205.3795362 ]\n",
      "Pesos ajustados\n",
      "[  -0.57655766  179.32907694 -282.7024862 ]\n",
      "Pesos ajustados\n",
      "[  -0.47655766  248.30496694 -217.9115562 ]\n",
      "Pesos ajustados\n",
      "[  -0.37655766  152.49341694 -315.7932962 ]\n",
      "Pesos ajustados\n",
      "[  -0.47655766  233.66714694 -264.4453562 ]\n",
      "Pesos ajustados\n",
      "[  -0.37655766  333.13497694 -172.5557962 ]\n",
      "Pesos ajustados\n",
      "[  -0.47655766  274.43005694 -264.8930462 ]\n",
      "Pesos ajustados\n",
      "[  -0.37655766  230.57192694 -309.4320562 ]\n",
      "Pesos ajustados\n",
      "[  -0.47655766  317.81503694 -242.5201362 ]\n",
      "Pesos ajustados\n",
      "[  -0.37655766  286.39206694 -276.9038862 ]\n",
      "Pesos ajustados\n",
      "[  -0.47655766  236.48224694 -328.1643162 ]\n",
      "Pesos ajustados\n",
      "[  -0.57655766  263.94583694 -307.3079662 ]\n",
      "Pesos ajustados\n",
      "[  -0.47655766  313.40665694 -258.4139162 ]\n",
      "Pesos ajustados\n",
      "[  -0.37655766  285.19919694 -291.9980362 ]\n",
      "Pesos ajustados\n",
      "[-2.76557659e-01  3.72333957e+02 -2.05308206e+02]\n",
      "Pesos ajustados\n",
      "[-1.76557659e-01  3.20418627e+02 -2.61509226e+02]\n",
      "Pesos ajustados\n",
      "[-7.65576591e-02  2.55532597e+02 -3.36125316e+02]\n",
      "Pesos ajustados\n",
      "[-1.76557659e-01  3.45241397e+02 -2.57116596e+02]\n",
      "Pesos ajustados\n",
      "[-2.76557659e-01  2.67778447e+02 -3.55104306e+02]\n",
      "Pesos ajustados\n",
      "[  -0.37655766  312.68378694 -311.7003662 ]\n"
     ]
    }
   ],
   "source": [
    "ajustes = np.array([])\n",
    "\n",
    "parar = False\n",
    "epocas = 0\n",
    "\n",
    "while(parar==False):\n",
    "    resultado = verifica(pesos)\n",
    "    pesos = resultado[0]\n",
    "    ajustes = np.append(ajustes,[resultado[1]])\n",
    "    indice = len(ajustes)\n",
    "    if(ajustes[indice-1] == 0):\n",
    "        parar = True\n",
    "    epocas += 1"
   ]
  },
  {
   "cell_type": "code",
   "execution_count": 32,
   "metadata": {},
   "outputs": [
    {
     "name": "stdout",
     "output_type": "stream",
     "text": [
      "Ao final da execução do algoritmo, podemos verificar que houve um total de  59  ajuste(s) realizados nos pesos. Para a convergência foram necessárias um total de  3  épocas. Abaixo pode-se visualizar a quantidade de ajustes realizados em cada época.\n",
      "\n",
      "Época  1  =>  48  ajustes\n",
      "Época  2  =>  11  ajustes\n",
      "Época  3  =>  0  ajustes\n"
     ]
    }
   ],
   "source": [
    "ajustes = ajustes.astype(int)\n",
    "total_ajustes = np.sum(ajustes)\n",
    "\n",
    "print('Ao final da execução do algoritmo, podemos verificar que houve um total de ',total_ajustes,' ajuste(s) realizados nos pesos. Para a convergência foram necessárias um total de ',epocas,' épocas. Abaixo pode-se visualizar a quantidade de ajustes realizados em cada época.')\n",
    "print('')\n",
    "\n",
    "for i in range(0,len(ajustes)):\n",
    "    print('Época ',i+1,' => ', ajustes[i],' ajustes')"
   ]
  },
  {
   "cell_type": "code",
   "execution_count": null,
   "metadata": {},
   "outputs": [],
   "source": []
  }
 ],
 "metadata": {
  "kernelspec": {
   "display_name": "Python 3",
   "language": "python",
   "name": "python3"
  },
  "language_info": {
   "codemirror_mode": {
    "name": "ipython",
    "version": 3
   },
   "file_extension": ".py",
   "mimetype": "text/x-python",
   "name": "python",
   "nbconvert_exporter": "python",
   "pygments_lexer": "ipython3",
   "version": "3.8.5"
  }
 },
 "nbformat": 4,
 "nbformat_minor": 4
}
