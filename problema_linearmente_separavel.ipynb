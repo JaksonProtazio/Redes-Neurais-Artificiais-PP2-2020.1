{
 "cells": [
  {
   "cell_type": "markdown",
   "metadata": {},
   "source": [
    "# Notebook destinado a Parte 1 - Resolvendo um Problema Linearmente Separável do Projeto 2 de Redes Neurais 2020.1\n",
    "## Colaboradores: Jakson Protázio e Nadine Brito"
   ]
  },
  {
   "cell_type": "markdown",
   "metadata": {},
   "source": [
    "Primeiro importamos as bibliotecas necessárias."
   ]
  },
  {
   "cell_type": "code",
   "execution_count": 9,
   "metadata": {},
   "outputs": [],
   "source": [
    "import numpy as np\n",
    "import random"
   ]
  },
  {
   "cell_type": "markdown",
   "metadata": {},
   "source": [
    "Em seguida realizamos a leitura do dataset. "
   ]
  },
  {
   "cell_type": "code",
   "execution_count": 10,
   "metadata": {
    "scrolled": false,
    "tags": []
   },
   "outputs": [
    {
     "output_type": "stream",
     "name": "stdout",
     "text": "[[-363.7884  244.1423    0.    ]\n [ 328.7572 -256.7658    1.    ]\n [-164.9827  613.2164    0.    ]\n ...\n [ 872.4311  669.1192    1.    ]\n [ 822.6894 -702.6489    1.    ]\n [-140.147   734.0983    0.    ]]\n"
    }
   ],
   "source": [
    "dataset=np.fromfile('data/dataAll.txt')\n",
    "linhas = len(dataset)//3\n",
    "colunas=3\n",
    "dataset=dataset.reshape(linhas, colunas)\n",
    "print(dataset)"
   ]
  },
  {
   "cell_type": "markdown",
   "metadata": {},
   "source": [
    "No passo seguinte iremos iniciar o preenchimento do vetor de pesos."
   ]
  },
  {
   "cell_type": "code",
   "execution_count": 11,
   "metadata": {
    "tags": []
   },
   "outputs": [
    {
     "output_type": "stream",
     "name": "stdout",
     "text": "[ 0.38806667  0.21148311 -0.10975892]\n"
    }
   ],
   "source": [
    "pesos = np.array([random.uniform(-0.5,0.5),random.uniform(-0.5,0.5),random.uniform(-0.5,0.5)])\n",
    "    \n",
    "print(pesos)"
   ]
  },
  {
   "cell_type": "markdown",
   "metadata": {},
   "source": [
    "Agora verificamos, através de uma soma ponderada e uma função de ativação, se os pesos precisam de ajuste."
   ]
  },
  {
   "cell_type": "code",
   "execution_count": 12,
   "metadata": {
    "tags": []
   },
   "outputs": [
    {
     "output_type": "stream",
     "name": "stdout",
     "text": "[[  -1.     -363.7884  244.1423]\n [  -1.      328.7572 -256.7658]\n [  -1.     -164.9827  613.2164]\n ...\n [  -1.     -738.4556  357.1981]\n [  -1.      438.5813  445.3901]\n [  -1.      872.4311  669.1192]]\n"
    }
   ],
   "source": [
    "entradas = np.array([[-1, dataset[0,0], dataset[0,1]]])\n",
    "for i in range(1, linhas-2):\n",
    "    entradas = np.append(entradas, [[-1, dataset[i,0], dataset[i,1]]], axis=0)\n",
    "\n",
    "print(entradas)"
   ]
  },
  {
   "cell_type": "code",
   "execution_count": 13,
   "metadata": {},
   "outputs": [],
   "source": [
    "def soma(entradas,pesos):\n",
    "    return(np.dot(entradas,pesos))"
   ]
  },
  {
   "cell_type": "code",
   "execution_count": 14,
   "metadata": {
    "tags": []
   },
   "outputs": [],
   "source": [
    "def ativacao(saida):\n",
    "    if(saida >= 0):\n",
    "        return 1\n",
    "    else:\n",
    "        return 0  "
   ]
  },
  {
   "cell_type": "code",
   "execution_count": 15,
   "metadata": {
    "tags": []
   },
   "outputs": [
    {
     "output_type": "stream",
     "name": "stdout",
     "text": "0\nNão precisa de ajuste\n1\nPrecisa ajustar os pesos\n[ 0.38806667  0.21148311 -0.10975892]\n0\nNão precisa de ajuste\n1\nPrecisa ajustar os pesos\n[  0.48806667 -53.44756689 -76.60550892]\n1\nPrecisa ajustar os pesos\n[  0.48806667 -31.21148689 -34.49350892]\n"
    }
   ],
   "source": [
    "def verifica(n):\n",
    "    for i in range(n):\n",
    "        soma_saida = soma(entradas[i], pesos)\n",
    "        y = ativacao(soma_saida)\n",
    "        print(y)\n",
    "        \n",
    "        if(ativacao(soma_saida) == 1):\n",
    "            print('Precisa ajustar os pesos')\n",
    "            ajusta(pesos, dataset[i][2], y, entradas[i])\n",
    "        else:\n",
    "            print('Não precisa de ajuste')\n",
    "\n",
    "\n",
    "verifica(5)"
   ]
  },
  {
   "cell_type": "code",
   "execution_count": 16,
   "metadata": {
    "tags": []
   },
   "outputs": [],
   "source": [
    "def ajusta(peso_atual, yd, y, x):\n",
    "\n",
    "    taxa = 0.1\n",
    "    erro = (yd-y)\n",
    "    print(peso_atual + (taxa*erro*x))\n",
    "    #return(peso_atual + (taxa*erro*x))"
   ]
  }
 ],
 "metadata": {
  "kernelspec": {
   "display_name": "Python 3",
   "language": "python",
   "name": "python3"
  },
  "language_info": {
   "codemirror_mode": {
    "name": "ipython",
    "version": 3
   },
   "file_extension": ".py",
   "mimetype": "text/x-python",
   "name": "python",
   "nbconvert_exporter": "python",
   "pygments_lexer": "ipython3",
   "version": "3.8.1-final"
  }
 },
 "nbformat": 4,
 "nbformat_minor": 4
}