{
 "cells": [
  {
   "cell_type": "markdown",
   "metadata": {},
   "source": [
    "# Notebook destinado a Parte 1 - Resolvendo um Problema Linearmente Separável do Projeto 2 de Redes Neurais 2020.1\n",
    "## Colaboradores: Jakson Protázio e Nadine Brito"
   ]
  },
  {
   "cell_type": "markdown",
   "metadata": {},
   "source": [
    "Primeiro importamos as bibliotecas necessárias."
   ]
  },
  {
   "cell_type": "code",
   "execution_count": 2,
   "metadata": {},
   "outputs": [],
   "source": [
    "import numpy as np\n",
    "import random\n",
    "import matplotlib.pyplot as plt"
   ]
  },
  {
   "cell_type": "markdown",
   "metadata": {},
   "source": [
    "Em seguida realizamos a leitura do dataset. "
   ]
  },
  {
   "cell_type": "code",
   "execution_count": 3,
   "metadata": {
    "scrolled": false,
    "tags": []
   },
   "outputs": [
    {
     "name": "stdout",
     "output_type": "stream",
     "text": [
      "[[-363.7884  244.1423    0.    ]\n",
      " [ 328.7572 -256.7658    1.    ]\n",
      " [-164.9827  613.2164    0.    ]\n",
      " ...\n",
      " [ 872.4311  669.1192    1.    ]\n",
      " [ 822.6894 -702.6489    1.    ]\n",
      " [-140.147   734.0983    0.    ]]\n"
     ]
    }
   ],
   "source": [
    "dataset=np.fromfile('data/dataAll.txt')\n",
    "linhas = len(dataset)//3\n",
    "colunas=3\n",
    "dataset=dataset.reshape(linhas, colunas)\n",
    "print(dataset)"
   ]
  },
  {
   "cell_type": "markdown",
   "metadata": {},
   "source": [
    "No passo seguinte iremos iniciar o preenchimento do vetor de pesos."
   ]
  },
  {
   "cell_type": "code",
   "execution_count": 4,
   "metadata": {
    "tags": []
   },
   "outputs": [
    {
     "name": "stdout",
     "output_type": "stream",
     "text": [
      "[ 0.09188036 -0.11741835 -0.26639536]\n"
     ]
    }
   ],
   "source": [
    "pesos = np.array([random.uniform(-0.5,0.5),random.uniform(-0.5,0.5),random.uniform(-0.5,0.5)])\n",
    "    \n",
    "print(pesos)"
   ]
  },
  {
   "cell_type": "markdown",
   "metadata": {},
   "source": [
    "Agora verificamos, através de uma soma ponderada e uma função de ativação, se os pesos precisam de ajuste. Para isso, primeiro, preenchemos um vetor com as entradas do dataset."
   ]
  },
  {
   "cell_type": "code",
   "execution_count": 5,
   "metadata": {
    "tags": []
   },
   "outputs": [
    {
     "name": "stdout",
     "output_type": "stream",
     "text": [
      "[[  -1.     -363.7884  244.1423]\n",
      " [  -1.      328.7572 -256.7658]\n",
      " [  -1.     -164.9827  613.2164]\n",
      " ...\n",
      " [  -1.      872.4311  669.1192]\n",
      " [  -1.      822.6894 -702.6489]\n",
      " [  -1.     -140.147   734.0983]]\n"
     ]
    }
   ],
   "source": [
    "entradas = np.array([[-1, dataset[0,0], dataset[0,1]]])\n",
    "for i in range(1, linhas):\n",
    "    entradas = np.append(entradas, [[-1, dataset[i,0], dataset[i,1]]], axis=0)\n",
    "print(entradas)"
   ]
  },
  {
   "cell_type": "markdown",
   "metadata": {},
   "source": [
    "Agora definimos a função que irá realizar a soma ponderada."
   ]
  },
  {
   "cell_type": "code",
   "execution_count": 6,
   "metadata": {},
   "outputs": [],
   "source": [
    "def soma(entradas,pesos):\n",
    "    return(np.dot(entradas,pesos))"
   ]
  },
  {
   "cell_type": "markdown",
   "metadata": {},
   "source": [
    "Em seguida definimos a função de ativação. Nesse cenário, a pedido do enunciado, adotou-se a função de ativação degrau com limiar sendo 0."
   ]
  },
  {
   "cell_type": "code",
   "execution_count": 7,
   "metadata": {
    "tags": []
   },
   "outputs": [],
   "source": [
    "def ativacao(saida):\n",
    "    if(saida >= 0):\n",
    "        return 1\n",
    "    else:\n",
    "        return 0  "
   ]
  },
  {
   "cell_type": "markdown",
   "metadata": {},
   "source": [
    "Definimos também a função de ajuste de pesos."
   ]
  },
  {
   "cell_type": "code",
   "execution_count": 8,
   "metadata": {
    "tags": []
   },
   "outputs": [],
   "source": [
    "def ajusta(pesos_atuais, yd, y, x):\n",
    "    taxa = 0.1\n",
    "    erro = (yd-y)\n",
    "    mult = taxa*erro\n",
    "    result = pesos_atuais + np.dot(mult,x)\n",
    "    return result\n"
   ]
  },
  {
   "cell_type": "markdown",
   "metadata": {},
   "source": [
    "A função verifica, será responsável por fazer a chamada das funções para realizar a soma ponderada, função de ativação e a função de ajuste de pesos."
   ]
  },
  {
   "cell_type": "code",
   "execution_count": 9,
   "metadata": {
    "tags": []
   },
   "outputs": [],
   "source": [
    "def verifica(pesos):\n",
    "    qtde_ajuste = 0\n",
    "    n = len(entradas)\n",
    "    \n",
    "    for i in range(n):\n",
    "        soma_saida = soma(entradas[i], pesos)\n",
    "        y = ativacao(soma_saida)\n",
    "        if(y != dataset[i,2]):\n",
    "            pesos = ajusta(pesos,dataset[i,2],y,entradas[i])\n",
    "            qtde_ajuste += 1\n",
    "            print(\"Pesos ajustados\")\n",
    "            print(pesos)\n",
    "    \n",
    "    return pesos,qtde_ajuste"
   ]
  },
  {
   "cell_type": "markdown",
   "metadata": {},
   "source": [
    "Para dar início ao aprendizado colocamos a chamada da função verifica() em loop, onde a condição de parada é a convergência, ou seja, quando não há mais erros para os exemplos no conjunto de treinamento."
   ]
  },
  {
   "cell_type": "code",
   "execution_count": 10,
   "metadata": {
    "scrolled": true,
    "tags": []
   },
   "outputs": [
    {
     "name": "stdout",
     "output_type": "stream",
     "text": [
      "Pesos ajustados\n",
      "[-8.11964010e-03  7.26786017e+01  3.55631646e+01]\n",
      "Pesos ajustados\n",
      "[ -0.10811964  73.83184165 -23.28485536]\n",
      "Pesos ajustados\n",
      "[-8.11964010e-03 -9.69776835e+00 -1.22410685e+02]\n",
      "Pesos ajustados\n",
      "[ 9.18803599e-02  3.94890917e+01 -1.05781955e+02]\n",
      "Pesos ajustados\n",
      "[-8.11964010e-03  1.22087792e+02 -2.59261254e+01]\n",
      "Pesos ajustados\n",
      "[ 9.18803599e-02  8.20788817e+01 -1.03818815e+02]\n",
      "Pesos ajustados\n",
      "[  0.19188036 135.74869165 -54.72654536]\n",
      "Pesos ajustados\n",
      "[ 9.18803599e-02  8.27886317e+01 -1.11596005e+02]\n",
      "Pesos ajustados\n",
      "[  0.19188036 142.34815165 -61.47367536]\n",
      "Pesos ajustados\n",
      "[ 9.18803599e-02  1.09870162e+02 -1.34929495e+02]\n",
      "Pesos ajustados\n",
      "[-8.11964010e-03  1.81244672e+02 -7.03873754e+01]\n",
      "Pesos ajustados\n",
      "[-1.08119640e-01  1.35720042e+02 -1.36023305e+02]\n",
      "Pesos ajustados\n",
      "[-2.08119640e-01  2.18611912e+02 -5.32418154e+01]\n",
      "Pesos ajustados\n",
      "[  -0.30811964  172.46453165 -109.89119536]\n",
      "Pesos ajustados\n",
      "[  -0.20811964  108.55106165 -194.26561536]\n",
      "Pesos ajustados\n",
      "[  -0.30811964  153.14334165 -162.55057536]\n",
      "Pesos ajustados\n",
      "[  -0.40811964  200.16770165 -115.99640536]\n",
      "Pesos ajustados\n",
      "[  -0.50811964  170.28364165 -149.10573536]\n",
      "Pesos ajustados\n",
      "[  -0.40811964  106.74754165 -220.70900536]\n",
      "Pesos ajustados\n",
      "[  -0.30811964  192.81417165 -169.72659536]\n",
      "Pesos ajustados\n",
      "[  -0.20811964  174.57503165 -188.06023536]\n",
      "Pesos ajustados\n",
      "[-1.08119640e-01  2.05881912e+02 -1.57431915e+02]\n",
      "Pesos ajustados\n",
      "[-2.08119640e-01  1.41522782e+02 -2.39854355e+02]\n",
      "Pesos ajustados\n",
      "[-1.08119640e-01  1.71288272e+02 -2.20539555e+02]\n",
      "Pesos ajustados\n",
      "[-8.11964010e-03  2.62596482e+02 -1.37268785e+02]\n",
      "Pesos ajustados\n",
      "[-1.08119640e-01  2.15551652e+02 -2.25172725e+02]\n",
      "Pesos ajustados\n",
      "[-2.08119640e-01  2.98150352e+02 -1.45316895e+02]\n",
      "Pesos ajustados\n",
      "[-1.08119640e-01  2.58141442e+02 -2.23209585e+02]\n",
      "Pesos ajustados\n",
      "[-2.08119640e-01  2.05181382e+02 -2.80079045e+02]\n",
      "Pesos ajustados\n",
      "[-1.08119640e-01  2.64740902e+02 -2.29956715e+02]\n",
      "Pesos ajustados\n",
      "[-2.08119640e-01  2.06959912e+02 -2.90264865e+02]\n",
      "Pesos ajustados\n",
      "[  -0.30811964  251.18137165 -251.77921536]\n",
      "Pesos ajustados\n",
      "[  -0.40811964  334.07324165 -168.99772536]\n",
      "Pesos ajustados\n",
      "[  -0.50811964  287.92586165 -225.64710536]\n",
      "Pesos ajustados\n",
      "[  -0.40811964  261.30024165 -258.16947536]\n",
      "Pesos ajustados\n",
      "[  -0.30811964  243.06110165 -276.50311536]\n",
      "Pesos ajustados\n",
      "[-2.08119640e-01  2.74367982e+02 -2.45874795e+02]\n",
      "Pesos ajustados\n",
      "[-1.08119640e-01  1.98814082e+02 -3.23197745e+02]\n",
      "Pesos ajustados\n",
      "[-8.11964010e-03  2.67789972e+02 -2.58406815e+02]\n",
      "Pesos ajustados\n",
      "[ 9.18803599e-02  1.71978422e+02 -3.56288555e+02]\n",
      "Pesos ajustados\n",
      "[-8.11964010e-03  2.53152152e+02 -3.04940615e+02]\n",
      "Pesos ajustados\n",
      "[ 9.18803599e-02  3.52619982e+02 -2.13051055e+02]\n",
      "Pesos ajustados\n",
      "[-8.11964010e-03  2.93915062e+02 -3.05388305e+02]\n",
      "Pesos ajustados\n",
      "[-1.08119640e-01  3.76513762e+02 -2.25532475e+02]\n",
      "Pesos ajustados\n",
      "[-2.08119640e-01  3.22886982e+02 -3.11628215e+02]\n",
      "Pesos ajustados\n",
      "[-3.08119640e-01  2.72977162e+02 -3.62888645e+02]\n",
      "Pesos ajustados\n",
      "[  -0.40811964  300.44075165 -342.03229536]\n",
      "Pesos ajustados\n",
      "[-3.08119640e-01  3.49901572e+02 -2.93138245e+02]\n",
      "Pesos ajustados\n",
      "[-2.08119640e-01  3.21694112e+02 -3.26722365e+02]\n",
      "Pesos ajustados\n",
      "[-1.08119640e-01  4.08828872e+02 -2.40032535e+02]\n",
      "Pesos ajustados\n",
      "[-8.11964010e-03  3.56913542e+02 -2.96233555e+02]\n",
      "Pesos ajustados\n",
      "[ 9.18803599e-02  2.92027512e+02 -3.70849645e+02]\n",
      "Pesos ajustados\n",
      "[-8.11964010e-03  3.81736312e+02 -2.91840925e+02]\n",
      "Pesos ajustados\n",
      "[-1.08119640e-01  3.04273362e+02 -3.89828635e+02]\n",
      "Pesos ajustados\n",
      "[-2.08119640e-01  3.49178702e+02 -3.46424695e+02]\n",
      "Pesos ajustados\n",
      "[-3.08119640e-01  3.00912142e+02 -3.94894415e+02]\n",
      "Pesos ajustados\n",
      "[  -0.40811964  370.77577165 -330.67547536]\n",
      "Pesos ajustados\n",
      "[-3.08119640e-01  3.14940042e+02 -3.86853005e+02]\n",
      "Pesos ajustados\n",
      "[  -0.40811964  391.92751165 -322.00367536]\n",
      "Pesos ajustados\n",
      "[  -0.50811964  355.65747165 -365.23171536]\n",
      "Pesos ajustados\n",
      "[  -0.60811964  438.54934165 -282.45022536]\n",
      "Pesos ajustados\n",
      "[  -0.70811964  392.40196165 -339.09960536]\n",
      "Pesos ajustados\n",
      "[  -0.80811964  362.51790165 -372.20893536]\n",
      "Pesos ajustados\n",
      "[  -0.70811964  393.82478165 -341.58061536]\n",
      "Pesos ajustados\n",
      "[  -0.60811964  318.27088165 -418.90356536]\n",
      "Pesos ajustados\n",
      "[  -0.50811964  387.24677165 -354.11263536]\n",
      "Pesos ajustados\n",
      "[-4.08119640e-01  2.91435222e+02 -4.51994375e+02]\n",
      "Pesos ajustados\n",
      "[-3.08119640e-01  3.90903052e+02 -3.60104815e+02]\n",
      "Pesos ajustados\n",
      "[-2.08119640e-01  3.47044922e+02 -4.04643825e+02]\n",
      "Pesos ajustados\n",
      "[-3.08119640e-01  4.29643622e+02 -3.24787995e+02]\n",
      "Pesos ajustados\n",
      "[  -0.40811964  376.68356165 -381.65745536]\n",
      "Pesos ajustados\n",
      "[-3.08119640e-01  4.26144382e+02 -3.32763405e+02]\n",
      "Pesos ajustados\n",
      "[-2.08119640e-01  3.97936922e+02 -3.66347525e+02]\n",
      "Pesos ajustados\n",
      "[-3.08119640e-01  3.33647712e+02 -4.34412155e+02]\n",
      "Pesos ajustados\n",
      "[-2.08119640e-01  3.98638872e+02 -3.73520475e+02]\n",
      "Pesos ajustados\n",
      "[-3.08119640e-01  3.31964042e+02 -4.43415805e+02]\n",
      "Pesos ajustados\n",
      "[-2.08119640e-01  3.63414432e+02 -4.18984405e+02]\n",
      "Pesos ajustados\n",
      "[-3.08119640e-01  4.26311742e+02 -3.60797445e+02]\n",
      "Pesos ajustados\n",
      "[-2.08119640e-01  3.77194612e+02 -4.12646345e+02]\n",
      "Pesos ajustados\n",
      "[-3.08119640e-01  4.39684652e+02 -3.53502275e+02]\n",
      "Pesos ajustados\n",
      "[-4.08119640e-01  3.42273212e+02 -4.52673485e+02]\n",
      "Pesos ajustados\n",
      "[-3.08119640e-01  4.07227972e+02 -3.89451335e+02]\n",
      "Pesos ajustados\n",
      "[-2.08119640e-01  3.25566662e+02 -4.72328715e+02]\n",
      "Pesos ajustados\n",
      "[-3.08119640e-01  3.95430292e+02 -4.08109775e+02]\n",
      "Pesos ajustados\n",
      "[-4.08119640e-01  4.78322162e+02 -3.25328285e+02]\n",
      "Pesos ajustados\n",
      "[  -0.50811964  432.17478165 -381.97766536]\n",
      "Pesos ajustados\n",
      "[  -0.60811964  402.29072165 -415.08699536]\n",
      "Pesos ajustados\n",
      "[  -0.50811964  433.59760165 -384.45867536]\n",
      "Pesos ajustados\n",
      "[-4.08119640e-01  3.58043702e+02 -4.61781625e+02]\n",
      "Pesos ajustados\n",
      "[-3.08119640e-01  4.27019592e+02 -3.96990695e+02]\n",
      "Pesos ajustados\n",
      "[-2.08119640e-01  3.31208042e+02 -4.94872435e+02]\n",
      "Pesos ajustados\n",
      "[-1.08119640e-01  4.30675872e+02 -4.02982875e+02]\n",
      "Pesos ajustados\n",
      "[-8.11964010e-03  3.86817742e+02 -4.47521885e+02]\n",
      "Pesos ajustados\n",
      "[-1.08119640e-01  4.69416442e+02 -3.67666055e+02]\n",
      "Pesos ajustados\n",
      "[-2.08119640e-01  4.16456382e+02 -4.24535515e+02]\n",
      "Pesos ajustados\n",
      "[-1.08119640e-01  4.65917202e+02 -3.75641465e+02]\n",
      "Pesos ajustados\n",
      "[-8.11964010e-03  4.37709742e+02 -4.09225585e+02]\n",
      "Pesos ajustados\n",
      "[-1.08119640e-01  3.73420532e+02 -4.77290215e+02]\n",
      "Pesos ajustados\n",
      "[-8.11964010e-03  4.38411692e+02 -4.16398535e+02]\n",
      "Pesos ajustados\n",
      "[-1.08119640e-01  3.71736862e+02 -4.86293865e+02]\n",
      "Pesos ajustados\n",
      "[-8.11964010e-03  4.03187252e+02 -4.61862465e+02]\n",
      "Pesos ajustados\n",
      "[-1.08119640e-01  4.66084562e+02 -4.03675505e+02]\n",
      "Pesos ajustados\n",
      "[-8.11964010e-03  4.16967432e+02 -4.55524405e+02]\n",
      "Pesos ajustados\n",
      "[-1.08119640e-01  4.79457472e+02 -3.96380335e+02]\n",
      "Pesos ajustados\n",
      "[-2.08119640e-01  3.82046032e+02 -4.95551545e+02]\n",
      "Pesos ajustados\n",
      "[-1.08119640e-01  4.47000792e+02 -4.32329395e+02]\n",
      "Pesos ajustados\n",
      "[-8.11964010e-03  3.65339482e+02 -5.15206775e+02]\n",
      "Pesos ajustados\n",
      "[-1.08119640e-01  4.35203112e+02 -4.50987835e+02]\n",
      "Pesos ajustados\n",
      "[-2.08119640e-01  5.18094982e+02 -3.68206345e+02]\n",
      "Pesos ajustados\n",
      "[-3.08119640e-01  4.71947602e+02 -4.24855725e+02]\n",
      "Pesos ajustados\n",
      "[-4.08119640e-01  4.42063542e+02 -4.57965055e+02]\n",
      "Pesos ajustados\n",
      "[-3.08119640e-01  4.73370422e+02 -4.27336735e+02]\n",
      "Pesos ajustados\n",
      "[-2.08119640e-01  3.97816522e+02 -5.04659685e+02]\n",
      "Pesos ajustados\n",
      "[-1.08119640e-01  4.66792412e+02 -4.39868755e+02]\n",
      "Pesos ajustados\n",
      "[-8.11964010e-03  3.70980862e+02 -5.37750495e+02]\n",
      "Pesos ajustados\n",
      "[ 9.18803599e-02  4.70448692e+02 -4.45860935e+02]\n",
      "Pesos ajustados\n",
      "[ 1.91880360e-01  4.26590562e+02 -4.90399945e+02]\n",
      "Pesos ajustados\n",
      "[ 9.18803599e-02  5.09189262e+02 -4.10544115e+02]\n",
      "Pesos ajustados\n",
      "[-8.11964010e-03  4.56229202e+02 -4.67413575e+02]\n",
      "Pesos ajustados\n",
      "[ 9.18803599e-02  5.05690022e+02 -4.18519525e+02]\n",
      "Pesos ajustados\n",
      "[ 1.91880360e-01  4.77482562e+02 -4.52103645e+02]\n",
      "Pesos ajustados\n",
      "[ 2.91880360e-01  4.14435192e+02 -5.17798845e+02]\n",
      "Pesos ajustados\n",
      "[ 3.91880360e-01  4.79426352e+02 -4.56907165e+02]\n",
      "Pesos ajustados\n",
      "[ 2.91880360e-01  4.12751522e+02 -5.26802495e+02]\n",
      "Pesos ajustados\n",
      "[ 1.91880360e-01  4.75648832e+02 -4.68615535e+02]\n",
      "Pesos ajustados\n",
      "[ 2.91880360e-01  3.93987522e+02 -5.51492915e+02]\n",
      "Pesos ajustados\n",
      "[ 1.91880360e-01  4.63851152e+02 -4.87273975e+02]\n",
      "Pesos ajustados\n",
      "[ 9.18803599e-02  5.46743022e+02 -4.04492485e+02]\n",
      "Pesos ajustados\n",
      "[-8.11964010e-03  5.00595642e+02 -4.61141865e+02]\n",
      "Pesos ajustados\n",
      "[ 9.18803599e-02  4.82356502e+02 -4.79475505e+02]\n",
      "Pesos ajustados\n",
      "[-8.11964010e-03  4.34089942e+02 -5.27945225e+02]\n",
      "Pesos ajustados\n",
      "[-1.08119640e-01  5.03953572e+02 -4.63726285e+02]\n",
      "Pesos ajustados\n",
      "[-8.11964010e-03  4.48117842e+02 -5.19903815e+02]\n",
      "Pesos ajustados\n",
      "[-1.08119640e-01  5.31009712e+02 -4.37122325e+02]\n",
      "Pesos ajustados\n",
      "[-2.08119640e-01  5.01125652e+02 -4.70231655e+02]\n",
      "Pesos ajustados\n",
      "[-1.08119640e-01  4.82886512e+02 -4.88565295e+02]\n",
      "Pesos ajustados\n",
      "[-8.11964010e-03  5.32347332e+02 -4.39671245e+02]\n",
      "Pesos ajustados\n",
      "[ 9.18803599e-02  5.04139872e+02 -4.73255365e+02]\n",
      "Pesos ajustados\n",
      "[-8.11964010e-03  4.39850662e+02 -5.41319995e+02]\n",
      "Pesos ajustados\n",
      "[ 9.18803599e-02  5.04841822e+02 -4.80428315e+02]\n",
      "Pesos ajustados\n",
      "[-8.11964010e-03  4.38166992e+02 -5.50323645e+02]\n",
      "Pesos ajustados\n",
      "[-1.08119640e-01  5.01064302e+02 -4.92136685e+02]\n",
      "Pesos ajustados\n",
      "[-2.08119640e-01  4.03652862e+02 -5.91307895e+02]\n",
      "Pesos ajustados\n",
      "[-3.08119640e-01  4.97438452e+02 -5.22814025e+02]\n",
      "Pesos ajustados\n",
      "[-2.08119640e-01  5.62393212e+02 -4.59591875e+02]\n",
      "Pesos ajustados\n",
      "[-1.08119640e-01  4.80731902e+02 -5.42469255e+02]\n",
      "Pesos ajustados\n",
      "[-2.08119640e-01  5.50595532e+02 -4.78250315e+02]\n",
      "Pesos ajustados\n",
      "[-1.08119640e-01  4.94759802e+02 -5.34427845e+02]\n",
      "Pesos ajustados\n",
      "[-2.08119640e-01  5.77651672e+02 -4.51646355e+02]\n",
      "Pesos ajustados\n",
      "[-3.08119640e-01  5.31504292e+02 -5.08295735e+02]\n",
      "Pesos ajustados\n",
      "[-2.08119640e-01  5.13265152e+02 -5.26629375e+02]\n",
      "Pesos ajustados\n",
      "[-1.08119640e-01  5.44572032e+02 -4.96001055e+02]\n",
      "Pesos ajustados\n",
      "[-8.11964010e-03  4.69018132e+02 -5.73324005e+02]\n",
      "Pesos ajustados\n",
      "[ 9.18803599e-02  5.37994022e+02 -5.08533075e+02]\n",
      "Pesos ajustados\n",
      "[ 1.91880360e-01  4.42182472e+02 -6.06414815e+02]\n",
      "Pesos ajustados\n",
      "[ 2.91880360e-01  5.41650302e+02 -5.14525255e+02]\n",
      "Pesos ajustados\n",
      "[ 3.91880360e-01  4.97792172e+02 -5.59064265e+02]\n",
      "Pesos ajustados\n",
      "[ 2.91880360e-01  5.80390872e+02 -4.79208435e+02]\n",
      "Pesos ajustados\n",
      "[ 1.91880360e-01  5.27430812e+02 -5.36077895e+02]\n",
      "Pesos ajustados\n",
      "[ 2.91880360e-01  5.76891632e+02 -4.87183845e+02]\n",
      "Pesos ajustados\n",
      "[ 1.91880360e-01  5.12602422e+02 -5.55248475e+02]\n",
      "Pesos ajustados\n",
      "[ 2.91880360e-01  5.77593582e+02 -4.94356795e+02]\n",
      "Pesos ajustados\n",
      "[ 1.91880360e-01  5.58785912e+02 -5.15342205e+02]\n",
      "Pesos ajustados\n",
      "[ 2.91880360e-01  5.06870582e+02 -5.71543225e+02]\n",
      "Pesos ajustados\n",
      "[ 3.91880360e-01  5.80953702e+02 -5.05672465e+02]\n",
      "Pesos ajustados\n",
      "[ 2.91880360e-01  5.14278872e+02 -5.75567795e+02]\n",
      "Pesos ajustados\n",
      "[ 1.91880360e-01  5.77176182e+02 -5.17380835e+02]\n",
      "Pesos ajustados\n",
      "[ 2.91880360e-01  5.28059052e+02 -5.69229735e+02]\n",
      "Pesos ajustados\n",
      "[ 1.91880360e-01  5.90549092e+02 -5.10085665e+02]\n",
      "Pesos ajustados\n",
      "[ 9.18803599e-02  4.93137652e+02 -6.09256875e+02]\n",
      "Pesos ajustados\n",
      "[ 1.91880360e-01  5.58092412e+02 -5.46034725e+02]\n",
      "Pesos ajustados\n",
      "[ 2.91880360e-01  4.76431102e+02 -6.28912105e+02]\n",
      "Pesos ajustados\n",
      "[ 1.91880360e-01  5.46294732e+02 -5.64693165e+02]\n",
      "Pesos ajustados\n",
      "[ 9.18803599e-02  6.29186602e+02 -4.81911675e+02]\n",
      "Pesos ajustados\n",
      "[-8.11964010e-03  5.83039222e+02 -5.38561055e+02]\n",
      "Pesos ajustados\n",
      "[ 9.18803599e-02  5.64800082e+02 -5.56894695e+02]\n",
      "Pesos ajustados\n",
      "[-8.11964010e-03  5.16533522e+02 -6.05364415e+02]\n",
      "Pesos ajustados\n",
      "[-1.08119640e-01  5.86397152e+02 -5.41145475e+02]\n",
      "Pesos ajustados\n",
      "[-8.11964010e-03  5.30561422e+02 -5.97323005e+02]\n",
      "Pesos ajustados\n",
      "[-1.08119640e-01  6.13453292e+02 -5.14541515e+02]\n",
      "Pesos ajustados\n",
      "[-2.08119640e-01  5.83569232e+02 -5.47650845e+02]\n",
      "Pesos ajustados\n",
      "[-1.08119640e-01  5.65330092e+02 -5.65984485e+02]\n"
     ]
    }
   ],
   "source": [
    "ajustes = np.array([])\n",
    "\n",
    "parar = False\n",
    "epocas = 0\n",
    "\n",
    "while(parar==False):\n",
    "    resultado = verifica(pesos)\n",
    "    pesos = resultado[0]\n",
    "    ajustes = np.append(ajustes,[resultado[1]])\n",
    "    indice = len(ajustes)\n",
    "    if(ajustes[indice-1] == 0):\n",
    "        parar = True\n",
    "    epocas += 1"
   ]
  },
  {
   "cell_type": "code",
   "execution_count": 11,
   "metadata": {
    "tags": []
   },
   "outputs": [
    {
     "name": "stdout",
     "output_type": "stream",
     "text": [
      "Ao final da execução do algoritmo, podemos verificar que houve um total de  182  ajuste(s) realizados nos pesos. Para a convergência foram necessárias um total de  11  épocas. Abaixo pode-se visualizar a quantidade de ajustes realizados em cada época.\n",
      "\n",
      "Época  1  =>  26  ajustes\n",
      "Época  2  =>  17  ajustes\n",
      "Época  3  =>  26  ajustes\n",
      "Época  4  =>  24  ajustes\n",
      "Época  5  =>  24  ajustes\n",
      "Época  6  =>  13  ajustes\n",
      "Época  7  =>  6  ajustes\n",
      "Época  8  =>  21  ajustes\n",
      "Época  9  =>  19  ajustes\n",
      "Época  10  =>  6  ajustes\n",
      "Época  11  =>  0  ajustes\n"
     ]
    }
   ],
   "source": [
    "ajustes = ajustes.astype(int)\n",
    "total_ajustes = np.sum(ajustes)\n",
    "\n",
    "print('Ao final da execução do algoritmo, podemos verificar que houve um total de ',total_ajustes,' ajuste(s) realizados nos pesos. Para a convergência foram necessárias um total de ',epocas,' épocas. Abaixo pode-se visualizar a quantidade de ajustes realizados em cada época.')\n",
    "print('')\n",
    "\n",
    "for i in range(0,len(ajustes)):\n",
    "    print('Época ',i+1,' => ', ajustes[i],' ajustes')"
   ]
  },
  {
   "cell_type": "markdown",
   "metadata": {},
   "source": [
    "Sendo assim foi gerado o gráfico contendo todos os exemplos do conjunto de dados bem como a reta que separa as classses. "
   ]
  },
  {
   "cell_type": "code",
   "execution_count": 25,
   "metadata": {
    "tags": []
   },
   "outputs": [
    {
     "data": {
      "image/png": "[encoded data removed]",
      "text/plain": [
       "<Figure size 432x288 with 1 Axes>"
      ]
     },
     "metadata": {
      "needs_background": "light"
     },
     "output_type": "display_data"
    }
   ],
   "source": [
    "resultado_0x = np.array([])\n",
    "resultado_0y = np.array([])\n",
    "resultado_1x = np.array([])\n",
    "resultado_1y = np.array([])\n",
    "\n",
    "for i in range (len(dataset)):\n",
    "    if(dataset[i,2] == 1):\n",
    "        resultado_0x = np.append(resultado_0x,[dataset[i,0]])\n",
    "        resultado_0y = np.append(resultado_0y,[dataset[i,1]])\n",
    "    else:\n",
    "        resultado_1x = np.append(resultado_1x,[dataset[i,0]])\n",
    "        resultado_1y = np.append(resultado_1y, [dataset[i,1]])\n",
    "\n",
    "plt.scatter(resultado_1x,resultado_1y, color='blue')\n",
    "plt.plot()\n",
    "        \n",
    "plt.scatter(resultado_0x,resultado_0y, color='red')\n",
    "plt.plot()\n",
    "\n",
    "x2 = (pesos[0]/pesos[2])\n",
    "x1 = (pesos[0]/pesos[2])/(pesos[1]/pesos[2]) \n",
    "\n",
    "m = (0-x2)/x1-0\n",
    "n = x2 - m*x1\n",
    "\n",
    "abscissa = np.array([])\n",
    "ordenada = np.array([])\n",
    "\n",
    "for i in range(len(dataset)):\n",
    "\n",
    "    y = m*(dataset[i,0])+n\n",
    "\n",
    "    abscissa = np.append(abscissa, [y])\n",
    "    ordenada = np.append(ordenada, dataset[i,0])\n",
    "\n",
    "plt.xlabel(\"X1\")\n",
    "plt.ylabel(\"X2\")\n",
    "plt.plot(abscissa,ordenada,color='green')\n",
    "plt.show()\n"
   ]
  },
  {
   "cell_type": "markdown",
   "metadata": {},
   "source": [
    "Podemos visualizar que os dados representados pela cor azul são aqueles fizeram com que o neurônio fosse ativado, enquanto os da cor vermelha não obtiveram sucesso na ativação."
   ]
  }
 ],
 "metadata": {
  "kernelspec": {
   "display_name": "Python 3",
   "language": "python",
   "name": "python3"
  },
  "language_info": {
   "codemirror_mode": {
    "name": "ipython",
    "version": 3
   },
   "file_extension": ".py",
   "mimetype": "text/x-python",
   "name": "python",
   "nbconvert_exporter": "python",
   "pygments_lexer": "ipython3",
   "version": "3.8.5"
  }
 },
 "nbformat": 4,
 "nbformat_minor": 4
}
