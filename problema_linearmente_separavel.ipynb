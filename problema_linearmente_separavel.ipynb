{
 "cells": [
  {
   "cell_type": "markdown",
   "metadata": {},
   "source": [
    "# Notebook destinado a Parte 1 - Resolvendo um Problema Linearmente Separável do Projeto 2 de Redes Neurais 2020.1\n",
    "## Colaboradores: Jakson Protázio e Nadine Brito"
   ]
  },
  {
   "cell_type": "markdown",
   "metadata": {},
   "source": [
    "Primeiro importamos as bibliotecas necessárias."
   ]
  },
  {
   "cell_type": "code",
   "execution_count": 23,
   "metadata": {},
   "outputs": [],
   "source": [
    "import numpy as np\n",
    "import random\n",
    "import matplotlib.pyplot as plt"
   ]
  },
  {
   "cell_type": "markdown",
   "metadata": {},
   "source": [
    "Em seguida realizamos a leitura do dataset. "
   ]
  },
  {
   "cell_type": "code",
   "execution_count": 24,
   "metadata": {
    "scrolled": false,
    "tags": []
   },
   "outputs": [
    {
     "name": "stdout",
     "output_type": "stream",
     "text": [
      "[[-363.7884  244.1423    0.    ]\n",
      " [ 328.7572 -256.7658    1.    ]\n",
      " [-164.9827  613.2164    0.    ]\n",
      " ...\n",
      " [ 872.4311  669.1192    1.    ]\n",
      " [ 822.6894 -702.6489    1.    ]\n",
      " [-140.147   734.0983    0.    ]]\n"
     ]
    }
   ],
   "source": [
    "dataset=np.fromfile('data/dataAll.txt')\n",
    "linhas = len(dataset)//3\n",
    "colunas=3\n",
    "dataset=dataset.reshape(linhas, colunas)\n",
    "print(dataset)"
   ]
  },
  {
   "cell_type": "markdown",
   "metadata": {},
   "source": [
    "No passo seguinte iremos iniciar o preenchimento do vetor de pesos."
   ]
  },
  {
   "cell_type": "code",
   "execution_count": 25,
   "metadata": {
    "tags": []
   },
   "outputs": [
    {
     "name": "stdout",
     "output_type": "stream",
     "text": [
      "[0.43521031 0.16600759 0.3437275 ]\n"
     ]
    }
   ],
   "source": [
    "pesos = np.array([random.uniform(-0.5,0.5),random.uniform(-0.5,0.5),random.uniform(-0.5,0.5)])\n",
    "    \n",
    "print(pesos)"
   ]
  },
  {
   "cell_type": "markdown",
   "metadata": {},
   "source": [
    "Agora verificamos, através de uma soma ponderada e uma função de ativação, se os pesos precisam de ajuste. Para isso, primeiro, preenchemos um vetor com as entradas do dataset."
   ]
  },
  {
   "cell_type": "code",
   "execution_count": 26,
   "metadata": {
    "tags": []
   },
   "outputs": [
    {
     "name": "stdout",
     "output_type": "stream",
     "text": [
      "[[  -1.     -363.7884  244.1423]\n",
      " [  -1.      328.7572 -256.7658]\n",
      " [  -1.     -164.9827  613.2164]\n",
      " ...\n",
      " [  -1.      872.4311  669.1192]\n",
      " [  -1.      822.6894 -702.6489]\n",
      " [  -1.     -140.147   734.0983]]\n"
     ]
    }
   ],
   "source": [
    "entradas = np.array([[-1, dataset[0,0], dataset[0,1]]])\n",
    "for i in range(1, linhas):\n",
    "    entradas = np.append(entradas, [[-1, dataset[i,0], dataset[i,1]]], axis=0)\n",
    "print(entradas)"
   ]
  },
  {
   "cell_type": "markdown",
   "metadata": {},
   "source": [
    "Agora definimos a função que irá realizar a soma ponderada."
   ]
  },
  {
   "cell_type": "code",
   "execution_count": 27,
   "metadata": {},
   "outputs": [],
   "source": [
    "def soma(entradas,pesos):\n",
    "    return(np.dot(entradas,pesos))"
   ]
  },
  {
   "cell_type": "markdown",
   "metadata": {},
   "source": [
    "Em seguida definimos a função de ativação. Nesse cenário, a pedido do enunciado, adotou-se a função de ativação degrau com limiar sendo 0."
   ]
  },
  {
   "cell_type": "code",
   "execution_count": 28,
   "metadata": {
    "tags": []
   },
   "outputs": [],
   "source": [
    "def ativacao(saida):\n",
    "    if(saida >= 0):\n",
    "        return 1\n",
    "    else:\n",
    "        return 0  "
   ]
  },
  {
   "cell_type": "markdown",
   "metadata": {},
   "source": [
    "Definimos também a função de ajuste de pesos."
   ]
  },
  {
   "cell_type": "code",
   "execution_count": 29,
   "metadata": {
    "tags": []
   },
   "outputs": [],
   "source": [
    "def ajusta(pesos_atuais, yd, y, x):\n",
    "    taxa = 0.1\n",
    "    erro = (yd-y)\n",
    "    mult = taxa*erro\n",
    "    result = pesos_atuais + np.dot(mult,x)\n",
    "    return result\n"
   ]
  },
  {
   "cell_type": "markdown",
   "metadata": {},
   "source": [
    "A função verifica, será responsável por fazer a chamada das funções para realizar a soma ponderada, função de ativação e a função de ajuste de pesos."
   ]
  },
  {
   "cell_type": "code",
   "execution_count": 30,
   "metadata": {
    "tags": []
   },
   "outputs": [],
   "source": [
    "def verifica(pesos):\n",
    "    qtde_ajuste = 0\n",
    "    n = len(entradas)\n",
    "    \n",
    "    for i in range(n):\n",
    "        soma_saida = soma(np.array([-1, dataset[i,0], dataset[i,1]]), pesos)\n",
    "        y = ativacao(soma_saida)\n",
    "        if(y != dataset[i,2]):\n",
    "            pesos = ajusta(pesos,dataset[i,2],y,np.array([-1, dataset[i,0], dataset[i,1]]))\n",
    "            qtde_ajuste += 1\n",
    "            print(\"Pesos ajustados\")\n",
    "            print(pesos)\n",
    "    \n",
    "    return pesos,qtde_ajuste"
   ]
  },
  {
   "cell_type": "markdown",
   "metadata": {},
   "source": [
    "Para dar início ao aprendizado colocamos a chamada da função verifica() em loop, onde a condição de parada é a convergência, ou seja, quando não há mais erros para os exemplos no conjunto de treinamento."
   ]
  },
  {
   "cell_type": "code",
   "execution_count": 31,
   "metadata": {
    "scrolled": true,
    "tags": []
   },
   "outputs": [
    {
     "name": "stdout",
     "output_type": "stream",
     "text": [
      "Pesos ajustados\n",
      "[  0.53521031  36.54484759 -24.0705025 ]\n",
      "Pesos ajustados\n",
      "[   0.63521031  -17.11420241 -100.5662525 ]\n",
      "Pesos ajustados\n",
      "[  0.53521031  55.68181759 -64.7366925 ]\n",
      "Pesos ajustados\n",
      "[  0.43521031 138.28051759  15.1191375 ]\n",
      "Pesos ajustados\n",
      "[  0.53521031 144.12627759 -63.1754525 ]\n",
      "Pesos ajustados\n",
      "[   0.63521031  104.11736759 -141.0681425 ]\n",
      "Pesos ajustados\n",
      "[  0.73521031 157.78717759 -91.9758725 ]\n",
      "Pesos ajustados\n",
      "[   0.63521031  104.82711759 -148.8453325 ]\n",
      "Pesos ajustados\n",
      "[  0.73521031 164.38663759 -98.7230025 ]\n",
      "Pesos ajustados\n",
      "[   0.63521031  118.86200759 -164.3589325 ]\n",
      "Pesos ajustados\n",
      "[  0.73521031 209.57786759 -89.6456125 ]\n",
      "Pesos ajustados\n",
      "[   0.63521031  151.79687759 -149.9537625 ]\n",
      "Pesos ajustados\n",
      "[   0.53521031  103.53031759 -198.4234825 ]\n",
      "Pesos ajustados\n",
      "[   0.43521031  173.97766759 -156.3072125 ]\n",
      "Pesos ajustados\n",
      "[   0.33521031  127.13566759 -207.7170825 ]\n",
      "Pesos ajustados\n",
      "[   0.23521031  196.99929759 -143.4981425 ]\n",
      "Pesos ajustados\n",
      "[   0.33521031  141.16356759 -199.6756725 ]\n",
      "Pesos ajustados\n",
      "[   0.23521031  218.15103759 -134.8263425 ]\n",
      "Pesos ajustados\n",
      "[ 1.35210312e-01  1.81880998e+02 -1.78054382e+02]\n",
      "Pesos ajustados\n",
      "[   0.23521031  163.64185759 -196.3880225 ]\n",
      "Pesos ajustados\n",
      "[ 1.35210312e-01  2.39064298e+02 -1.30332912e+02]\n",
      "Pesos ajustados\n",
      "[ 3.52103120e-02  1.74705168e+02 -2.12755352e+02]\n",
      "Pesos ajustados\n",
      "[ 1.35210312e-01  2.66013378e+02 -1.29484582e+02]\n",
      "Pesos ajustados\n",
      "[ 3.52103120e-02  2.18968548e+02 -2.17388522e+02]\n",
      "Pesos ajustados\n",
      "[-6.47896880e-02  1.70701988e+02 -2.65858242e+02]\n",
      "Pesos ajustados\n",
      "[-1.64789688e-01  2.40565618e+02 -2.01639302e+02]\n",
      "Pesos ajustados\n",
      "[-6.47896880e-02  1.84729888e+02 -2.57816832e+02]\n",
      "Pesos ajustados\n",
      "[-1.64789688e-01  2.61717358e+02 -1.92967502e+02]\n",
      "Pesos ajustados\n",
      "[  -0.26478969  225.44731759 -236.1955425 ]\n",
      "Pesos ajustados\n",
      "[  -0.36478969  308.33918759 -153.4140525 ]\n",
      "Pesos ajustados\n",
      "[  -0.46478969  262.19180759 -210.0634325 ]\n",
      "Pesos ajustados\n",
      "[  -0.36478969  235.56618759 -242.5858025 ]\n",
      "Pesos ajustados\n",
      "[  -0.46478969  282.59054759 -196.0316325 ]\n",
      "Pesos ajustados\n",
      "[  -0.56478969  252.70648759 -229.1409625 ]\n",
      "Pesos ajustados\n",
      "[  -0.46478969  234.46734759 -247.4746025 ]\n",
      "Pesos ajustados\n",
      "[  -0.36478969  265.77422759 -216.8462825 ]\n",
      "Pesos ajustados\n",
      "[-2.64789688e-01  1.90220328e+02 -2.94169232e+02]\n",
      "Pesos ajustados\n",
      "[-1.64789688e-01  2.59196218e+02 -2.29378302e+02]\n",
      "Pesos ajustados\n",
      "[-6.47896880e-02  1.63384668e+02 -3.27260042e+02]\n",
      "Pesos ajustados\n",
      "[-1.64789688e-01  2.44558398e+02 -2.75912102e+02]\n",
      "Pesos ajustados\n",
      "[-6.47896880e-02  3.44026228e+02 -1.84022542e+02]\n",
      "Pesos ajustados\n",
      "[-1.64789688e-01  2.85321308e+02 -2.76359792e+02]\n",
      "Pesos ajustados\n",
      "[-6.47896880e-02  2.41463178e+02 -3.20898802e+02]\n",
      "Pesos ajustados\n",
      "[-1.64789688e-01  3.28706288e+02 -2.53986882e+02]\n",
      "Pesos ajustados\n",
      "[-6.47896880e-02  2.97283318e+02 -2.88370632e+02]\n",
      "Pesos ajustados\n",
      "[-1.64789688e-01  2.47373498e+02 -3.39631062e+02]\n",
      "Pesos ajustados\n",
      "[-2.64789688e-01  2.74837088e+02 -3.18774712e+02]\n",
      "Pesos ajustados\n",
      "[-1.64789688e-01  3.24297908e+02 -2.69880662e+02]\n",
      "Pesos ajustados\n",
      "[-6.47896880e-02  2.96090448e+02 -3.03464782e+02]\n",
      "Pesos ajustados\n",
      "[ 3.52103120e-02  3.83225208e+02 -2.16774952e+02]\n",
      "Pesos ajustados\n",
      "[ 1.35210312e-01  3.31309878e+02 -2.72975972e+02]\n",
      "Pesos ajustados\n",
      "[ 2.35210312e-01  2.66423848e+02 -3.47592062e+02]\n",
      "Pesos ajustados\n",
      "[ 1.35210312e-01  3.56132648e+02 -2.68583342e+02]\n",
      "Pesos ajustados\n",
      "[ 3.52103120e-02  2.78669698e+02 -3.66571052e+02]\n",
      "Pesos ajustados\n",
      "[-6.47896880e-02  3.23575038e+02 -3.23167112e+02]\n"
     ]
    }
   ],
   "source": [
    "ajustes = np.array([])\n",
    "\n",
    "parar = False\n",
    "epocas = 0\n",
    "\n",
    "while(parar==False):\n",
    "    resultado = verifica(pesos)\n",
    "    pesos = resultado[0]\n",
    "    ajustes = np.append(ajustes,[resultado[1]])\n",
    "    indice = len(ajustes)\n",
    "    if(ajustes[indice-1] == 0):\n",
    "        parar = True\n",
    "    epocas += 1"
   ]
  },
  {
   "cell_type": "code",
   "execution_count": 32,
   "metadata": {
    "tags": []
   },
   "outputs": [
    {
     "name": "stdout",
     "output_type": "stream",
     "text": [
      "Ao final da execução do algoritmo, podemos verificar que houve um total de  55  ajuste(s) realizados nos pesos.\n",
      "Para a convergência foram necessárias um total de  4  épocas. Abaixo pode-se visualizar a quantidade de ajustes \n",
      "realizados em cada época.\n",
      "\n",
      "Época  1  =>  24  ajustes\n",
      "Época  2  =>  20  ajustes\n",
      "Época  3  =>  11  ajustes\n",
      "Época  4  =>  0  ajustes\n"
     ]
    }
   ],
   "source": [
    "ajustes = ajustes.astype(int)\n",
    "total_ajustes = np.sum(ajustes)\n",
    "\n",
    "print('Ao final da execução do algoritmo, podemos verificar que houve um total de ',total_ajustes,' ajuste(s) realizados nos pesos.\\nPara a convergência foram necessárias um total de ',epocas,' épocas. Abaixo pode-se visualizar a quantidade de ajustes \\nrealizados em cada época.\\n')\n",
    "\n",
    "for i in range(0,len(ajustes)):\n",
    "    print('Época ',i+1,' => ', ajustes[i],' ajustes')"
   ]
  },
  {
   "cell_type": "markdown",
   "metadata": {},
   "source": [
    "Sendo assim foi gerado o gráfico contendo todos os exemplos do conjunto de dados bem como a reta que separa as classses. "
   ]
  },
  {
   "cell_type": "code",
   "execution_count": 33,
   "metadata": {
    "tags": []
   },
   "outputs": [
    {
     "data": {
      "image/png": "[encoded data removed]",
      "text/plain": [
       "<Figure size 432x288 with 1 Axes>"
      ]
     },
     "metadata": {
      "needs_background": "light"
     },
     "output_type": "display_data"
    }
   ],
   "source": [
    "resultado_0x = np.array([])\n",
    "resultado_0y = np.array([])\n",
    "resultado_1x = np.array([])\n",
    "resultado_1y = np.array([])\n",
    "\n",
    "for i in range (len(dataset)):\n",
    "    if(dataset[i,2] == 0):\n",
    "        resultado_0x = np.append(resultado_0x,[dataset[i,0]])\n",
    "        resultado_0y = np.append(resultado_0y,[dataset[i,1]])\n",
    "    else:\n",
    "        resultado_1x = np.append(resultado_1x,[dataset[i,0]])\n",
    "        resultado_1y = np.append(resultado_1y, [dataset[i,1]])\n",
    "\n",
    "plt.scatter(resultado_1x,resultado_1y, color='blue')\n",
    "plt.plot()\n",
    "        \n",
    "plt.scatter(resultado_0x,resultado_0y, color='red')\n",
    "plt.plot()\n",
    "\n",
    "x2 = (pesos[0]/pesos[2])\n",
    "x1 = (pesos[0]/pesos[2])/(pesos[1]/pesos[2]) \n",
    "\n",
    "plt.axline([x1,0],[0,x2],color='green')\n",
    "plt.show()\n"
   ]
  },
  {
   "cell_type": "markdown",
   "metadata": {},
   "source": [
    "Podemos visualizar que os dados representados pela cor azul são aqueles fizeram com que o neurônio fosse ativado, enquanto os da cor vermelha não obtiveram sucesso na ativação."
   ]
  }
 ],
 "metadata": {
  "kernelspec": {
   "display_name": "Python 3",
   "language": "python",
   "name": "python3"
  },
  "language_info": {
   "codemirror_mode": {
    "name": "ipython",
    "version": 3
   },
   "file_extension": ".py",
   "mimetype": "text/x-python",
   "name": "python",
   "nbconvert_exporter": "python",
   "pygments_lexer": "ipython3",
   "version": "3.8.5"
  }
 },
 "nbformat": 4,
 "nbformat_minor": 4
}
