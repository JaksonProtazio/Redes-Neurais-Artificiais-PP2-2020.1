{
 "cells": [
  {
   "cell_type": "markdown",
   "metadata": {},
   "source": [
    "# Notebook destinado a Parte 1 - Resolvendo um Problema Linearmente Separável do Projeto 2 de Redes Neurais 2020.1\n",
    "## Colaboradores: Jakson Protázio e Nadine Brito"
   ]
  },
  {
   "cell_type": "markdown",
   "metadata": {},
   "source": [
    "Primeiro importamos as bibliotecas necessárias."
   ]
  },
  {
   "cell_type": "code",
   "execution_count": 16,
   "metadata": {},
   "outputs": [],
   "source": [
    "import numpy as np\n",
    "import random\n",
    "import matplotlib.pyplot as plt"
   ]
  },
  {
   "cell_type": "markdown",
   "metadata": {},
   "source": [
    "Em seguida realizamos a leitura do dataset. "
   ]
  },
  {
   "cell_type": "code",
   "execution_count": 17,
   "metadata": {
    "scrolled": false,
    "tags": []
   },
   "outputs": [
    {
     "name": "stdout",
     "output_type": "stream",
     "text": [
      "[[-363.7884  244.1423    0.    ]\n",
      " [ 328.7572 -256.7658    1.    ]\n",
      " [-164.9827  613.2164    0.    ]\n",
      " ...\n",
      " [ 872.4311  669.1192    1.    ]\n",
      " [ 822.6894 -702.6489    1.    ]\n",
      " [-140.147   734.0983    0.    ]]\n"
     ]
    }
   ],
   "source": [
    "dataset=np.fromfile('data/dataAll.txt')\n",
    "linhas = len(dataset)//3\n",
    "colunas=3\n",
    "dataset=dataset.reshape(linhas, colunas)\n",
    "print(dataset)"
   ]
  },
  {
   "cell_type": "markdown",
   "metadata": {},
   "source": [
    "No passo seguinte iremos iniciar o preenchimento do vetor de pesos."
   ]
  },
  {
   "cell_type": "code",
   "execution_count": 18,
   "metadata": {
    "tags": []
   },
   "outputs": [
    {
     "name": "stdout",
     "output_type": "stream",
     "text": [
      "[0.28290634 0.05368091 0.01579052]\n"
     ]
    }
   ],
   "source": [
    "pesos = np.array([random.uniform(-0.5,0.5),random.uniform(-0.5,0.5),random.uniform(-0.5,0.5)])\n",
    "    \n",
    "print(pesos)"
   ]
  },
  {
   "cell_type": "markdown",
   "metadata": {},
   "source": [
    "Agora verificamos, através de uma soma ponderada e uma função de ativação, se os pesos precisam de ajuste. Para isso, primeiro, preenchemos um vetor com as entradas do dataset."
   ]
  },
  {
   "cell_type": "code",
   "execution_count": 19,
   "metadata": {
    "tags": []
   },
   "outputs": [
    {
     "name": "stdout",
     "output_type": "stream",
     "text": [
      "[[  -1.     -363.7884  244.1423]\n",
      " [  -1.      328.7572 -256.7658]\n",
      " [  -1.     -164.9827  613.2164]\n",
      " ...\n",
      " [  -1.      872.4311  669.1192]\n",
      " [  -1.      822.6894 -702.6489]\n",
      " [  -1.     -140.147   734.0983]]\n"
     ]
    }
   ],
   "source": [
    "entradas = np.array([[-1, dataset[0,0], dataset[0,1]]])\n",
    "for i in range(1, linhas):\n",
    "    entradas = np.append(entradas, [[-1, dataset[i,0], dataset[i,1]]], axis=0)\n",
    "print(entradas)"
   ]
  },
  {
   "cell_type": "markdown",
   "metadata": {},
   "source": [
    "Agora definimos a função que irá realizar a soma ponderada."
   ]
  },
  {
   "cell_type": "code",
   "execution_count": 20,
   "metadata": {},
   "outputs": [],
   "source": [
    "def soma(entradas,pesos):\n",
    "    return(np.dot(entradas,pesos))"
   ]
  },
  {
   "cell_type": "markdown",
   "metadata": {},
   "source": [
    "Em seguida definimos a função de ativação. Nesse cenário, a pedido do enunciado, adotou-se a função de ativação degrau com limiar sendo 0."
   ]
  },
  {
   "cell_type": "code",
   "execution_count": 21,
   "metadata": {
    "tags": []
   },
   "outputs": [],
   "source": [
    "def ativacao(saida):\n",
    "    if(saida >= 0):\n",
    "        return 1\n",
    "    else:\n",
    "        return 0  "
   ]
  },
  {
   "cell_type": "markdown",
   "metadata": {},
   "source": [
    "Definimos também a função de ajuste de pesos."
   ]
  },
  {
   "cell_type": "code",
   "execution_count": 22,
   "metadata": {
    "tags": []
   },
   "outputs": [],
   "source": [
    "def ajusta(pesos_atuais, yd, y, x):\n",
    "    taxa = 0.1\n",
    "    erro = (yd-y)\n",
    "    mult = taxa*erro\n",
    "    result = pesos_atuais + np.dot(mult,x)\n",
    "    return result\n"
   ]
  },
  {
   "cell_type": "markdown",
   "metadata": {},
   "source": [
    "A função verifica, será responsável por fazer a chamada das funções para realizar a soma ponderada, função de ativação e a função de ajuste de pesos."
   ]
  },
  {
   "cell_type": "code",
   "execution_count": 23,
   "metadata": {
    "tags": []
   },
   "outputs": [],
   "source": [
    "def verifica(pesos):\n",
    "    qtde_ajuste = 0\n",
    "    n = len(entradas)\n",
    "    \n",
    "    for i in range(n):\n",
    "        soma_saida = soma(entradas[i], pesos)\n",
    "        y = ativacao(soma_saida)\n",
    "        if(y != dataset[i,2]):\n",
    "            pesos = ajusta(pesos,dataset[i,2],y,entradas[i])\n",
    "            qtde_ajuste += 1\n",
    "            print(\"Pesos ajustados\")\n",
    "            print(pesos)\n",
    "    \n",
    "    return pesos,qtde_ajuste"
   ]
  },
  {
   "cell_type": "markdown",
   "metadata": {},
   "source": [
    "Para dar início ao aprendizado colocamos a chamada da função verifica() em loop, onde a condição de parada é a convergência, ou seja, quando não há mais erros para os exemplos no conjunto de treinamento."
   ]
  },
  {
   "cell_type": "code",
   "execution_count": 24,
   "metadata": {
    "scrolled": true,
    "tags": []
   },
   "outputs": [
    {
     "name": "stdout",
     "output_type": "stream",
     "text": [
      "Pesos ajustados\n",
      "[  0.38290634  16.55195091 -61.30584948]\n",
      "Pesos ajustados\n",
      "[  0.28290634  89.34797091 -25.47628948]\n",
      "Pesos ajustados\n",
      "[   0.38290634    5.81836091 -124.60211948]\n",
      "Pesos ajustados\n",
      "[   0.48290634   55.00522091 -107.97338948]\n",
      "Pesos ajustados\n",
      "[  0.38290634 137.60392091 -28.11755948]\n",
      "Pesos ajustados\n",
      "[   0.48290634   97.59501091 -106.01024948]\n",
      "Pesos ajustados\n",
      "[  0.58290634 147.05583091 -57.11619948]\n",
      "Pesos ajustados\n",
      "[   0.68290634  107.50658091 -154.21023948]\n",
      "Pesos ajustados\n",
      "[  0.78290634 199.74856091 -67.73766948]\n",
      "Pesos ajustados\n",
      "[  0.88290634 187.85145091 -95.63720948]\n",
      "Pesos ajustados\n",
      "[   0.98290634  159.64399091 -129.22132948]\n",
      "Pesos ajustados\n",
      "[   0.88290634   95.35478091 -197.28595948]\n",
      "Pesos ajustados\n",
      "[   0.78290634  148.45910091 -161.50655948]\n",
      "Pesos ajustados\n",
      "[   0.88290634  213.45026091 -100.61487948]\n",
      "Pesos ajustados\n",
      "[   0.78290634  162.51668091 -164.01484948]\n",
      "Pesos ajustados\n",
      "[  0.88290634 249.65144091 -77.32501948]\n",
      "Pesos ajustados\n",
      "[   0.98290634  197.73611091 -133.52603948]\n",
      "Pesos ajustados\n",
      "[   1.08290634  132.85008091 -208.14212948]\n",
      "Pesos ajustados\n",
      "[   0.98290634  199.88773091 -157.97562948]\n",
      "Pesos ajustados\n",
      "[   0.88290634  122.42478091 -255.96333948]\n",
      "Pesos ajustados\n",
      "[   0.98290634  207.27566091 -194.68995948]\n",
      "Pesos ajustados\n",
      "[   0.88290634  140.60083091 -264.58528948]\n",
      "Pesos ajustados\n",
      "[   0.98290634  172.05122091 -240.15388948]\n",
      "Pesos ajustados\n",
      "[   0.88290634  234.94853091 -181.96692948]\n",
      "Pesos ajustados\n",
      "[   0.98290634  185.83140091 -233.81582948]\n",
      "Pesos ajustados\n",
      "[   0.88290634  277.74967091 -151.50071948]\n",
      "Pesos ajustados\n",
      "[   0.98290634  232.39028091 -231.64811948]\n"
     ]
    }
   ],
   "source": [
    "ajustes = np.array([])\n",
    "\n",
    "parar = False\n",
    "epocas = 0\n",
    "\n",
    "while(parar==False):\n",
    "    resultado = verifica(pesos)\n",
    "    pesos = resultado[0]\n",
    "    ajustes = np.append(ajustes,[resultado[1]])\n",
    "    indice = len(ajustes)\n",
    "    if(ajustes[indice-1] == 0):\n",
    "        parar = True\n",
    "    epocas += 1"
   ]
  },
  {
   "cell_type": "code",
   "execution_count": 30,
   "metadata": {
    "tags": []
   },
   "outputs": [
    {
     "name": "stdout",
     "output_type": "stream",
     "text": [
      "Ao final da execução do algoritmo, podemos verificar que houve um total de  27  ajuste(s) realizados nos pesos.\n",
      "Para a convergência foram necessárias um total de  2  épocas. Abaixo pode-se visualizar a quantidade de ajustes \n",
      "realizados em cada época.\n",
      "\n",
      "Época  1  =>  27  ajustes\n",
      "Época  2  =>  0  ajustes\n"
     ]
    }
   ],
   "source": [
    "ajustes = ajustes.astype(int)\n",
    "total_ajustes = np.sum(ajustes)\n",
    "\n",
    "print('Ao final da execução do algoritmo, podemos verificar que houve um total de ',total_ajustes,' ajuste(s) realizados nos pesos.\\nPara a convergência foram necessárias um total de ',epocas,' épocas. Abaixo pode-se visualizar a quantidade de ajustes \\nrealizados em cada época.\\n')\n",
    "\n",
    "for i in range(0,len(ajustes)):\n",
    "    print('Época ',i+1,' => ', ajustes[i],' ajustes')"
   ]
  },
  {
   "cell_type": "markdown",
   "metadata": {},
   "source": [
    "Sendo assim foi gerado o gráfico contendo todos os exemplos do conjunto de dados bem como a reta que separa as classses. "
   ]
  },
  {
   "cell_type": "code",
   "execution_count": 32,
   "metadata": {
    "tags": []
   },
   "outputs": [
    {
     "data": {
      "image/png": "[encoded data removed]",
      "text/plain": [
       "<Figure size 432x288 with 1 Axes>"
      ]
     },
     "metadata": {
      "needs_background": "light"
     },
     "output_type": "display_data"
    }
   ],
   "source": [
    "resultado_0x = np.array([])\n",
    "resultado_0y = np.array([])\n",
    "resultado_1x = np.array([])\n",
    "resultado_1y = np.array([])\n",
    "\n",
    "for i in range (len(dataset)):\n",
    "    if(dataset[i,2] == 0):\n",
    "        resultado_0x = np.append(resultado_0x,[dataset[i,0]])\n",
    "        resultado_0y = np.append(resultado_0y,[dataset[i,1]])\n",
    "    else:\n",
    "        resultado_1x = np.append(resultado_1x,[dataset[i,0]])\n",
    "        resultado_1y = np.append(resultado_1y, [dataset[i,1]])\n",
    "\n",
    "plt.scatter(resultado_1x,resultado_1y, color='blue')\n",
    "plt.plot()\n",
    "        \n",
    "plt.scatter(resultado_0x,resultado_0y, color='red')\n",
    "plt.plot()\n",
    "\n",
    "x2 = (pesos[0]/pesos[2])\n",
    "x1 = (pesos[0]/pesos[2])/(pesos[1]/pesos[2]) \n",
    "\n",
    "plt.axline([x1,0],[0,x2],color='green')\n",
    "plt.show()\n"
   ]
  },
  {
   "cell_type": "markdown",
   "metadata": {},
   "source": [
    "Podemos visualizar que os dados representados pela cor azul são aqueles fizeram com que o neurônio fosse ativado, enquanto os da cor vermelha não obtiveram sucesso na ativação."
   ]
  }
 ],
 "metadata": {
  "kernelspec": {
   "display_name": "Python 3",
   "language": "python",
   "name": "python3"
  },
  "language_info": {
   "codemirror_mode": {
    "name": "ipython",
    "version": 3
   },
   "file_extension": ".py",
   "mimetype": "text/x-python",
   "name": "python",
   "nbconvert_exporter": "python",
   "pygments_lexer": "ipython3",
   "version": "3.8.5"
  }
 },
 "nbformat": 4,
 "nbformat_minor": 4
}
