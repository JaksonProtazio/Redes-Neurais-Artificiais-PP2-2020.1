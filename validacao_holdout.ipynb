{
 "cells": [
  {
   "cell_type": "markdown",
   "metadata": {},
   "source": [
    "# Notebook destinado a Parte 3 - Validação Holdout em Problema Não-Linearmente Separável\n",
    "## Colaboradores: Jakson Protázio, Nadine Brito e Lucas Araújo"
   ]
  },
  {
   "cell_type": "markdown",
   "metadata": {},
   "source": [
    "Considerando o dataset dataHoldout.txt realizaremos o treinamento de um neurônio para propor uma solução de um problema não-linear."
   ]
  },
  {
   "cell_type": "code",
   "execution_count": 1,
   "metadata": {},
   "outputs": [],
   "source": [
    "import numpy as np\n",
    "import random\n",
    "import matplotlib.pyplot as plt"
   ]
  },
  {
   "cell_type": "markdown",
   "metadata": {},
   "source": [
    "Importaremos o dataset para realizar o trabalho de aprendizado"
   ]
  },
  {
   "cell_type": "code",
   "execution_count": 2,
   "metadata": {
    "tags": []
   },
   "outputs": [
    {
     "name": "stdout",
     "output_type": "stream",
     "text": [
      "[[-0.29322959 -0.09065359  1.        ]\n",
      " [ 0.07988839  0.21101297  1.        ]\n",
      " [-0.07825563 -0.08083512  1.        ]\n",
      " ...\n",
      " [ 0.65980493  1.05876739  0.        ]\n",
      " [ 1.09867123  0.87404891  0.        ]\n",
      " [ 0.72930655  0.93224271  0.        ]]\n"
     ]
    }
   ],
   "source": [
    "dataset=np.fromfile('data/dataHoldout.txt')\n",
    "linhas = len(dataset)//3\n",
    "colunas=3\n",
    "dataset=dataset.reshape(linhas, colunas)\n",
    "print(dataset)"
   ]
  },
  {
   "cell_type": "markdown",
   "metadata": {},
   "source": [
    "Plotaremos o gráfico inicial da base de dados mostrando como ele não é linearmente separável."
   ]
  },
  {
   "cell_type": "code",
   "execution_count": 3,
   "metadata": {},
   "outputs": [
    {
     "data": {
      "image/png": "[encoded data removed]",
      "text/plain": [
       "<Figure size 432x288 with 1 Axes>"
      ]
     },
     "metadata": {
      "needs_background": "light"
     },
     "output_type": "display_data"
    }
   ],
   "source": [
    "resultado_0x = np.array([])\n",
    "resultado_0y = np.array([])\n",
    "resultado_1x = np.array([])\n",
    "resultado_1y = np.array([])\n",
    "\n",
    "for i in range (len(dataset)):\n",
    "    if(dataset[i,2] == 0):\n",
    "        resultado_0x = np.append(resultado_0x,[dataset[i,0]])\n",
    "        resultado_0y = np.append(resultado_0y,[dataset[i,1]])\n",
    "    else:\n",
    "        resultado_1x = np.append(resultado_1x,[dataset[i,0]])\n",
    "        resultado_1y = np.append(resultado_1y, [dataset[i,1]])\n",
    "\n",
    "plt.scatter(resultado_1x,resultado_1y, color='blue')\n",
    "plt.plot()\n",
    "        \n",
    "plt.scatter(resultado_0x,resultado_0y, color='red')\n",
    "plt.plot()\n",
    "\n",
    "plt.show()"
   ]
  },
  {
   "cell_type": "markdown",
   "metadata": {},
   "source": [
    "Nessa etapa, iremos dividir a base de dados em um conjunto de treinamento (70%) e um conjunto de teste (30%)."
   ]
  },
  {
   "cell_type": "code",
   "execution_count": 4,
   "metadata": {
    "tags": []
   },
   "outputs": [],
   "source": [
    "random.shuffle(dataset)\n",
    "n_training = int(0.7*(len(dataset)))\n",
    "training, test = dataset[:n_training,:], dataset[n_training:,:]\n",
    "\n",
    "for i in range (0, len(test)):\n",
    "    test[i,0] = float(test[i,0])\n",
    "    test[i,1] = float(test[i,1])\n",
    "    test[i,2] = float(test[i,2])"
   ]
  },
  {
   "cell_type": "markdown",
   "metadata": {},
   "source": [
    "Definidos os conjuntos de treinamento e de teste, será dado início a criação das funções responsáveis pelo aprendizado do neurônio.\n",
    "\n",
    "A função iniciar_pesos() cria o array de pesos, criados aleatoriamente dentro de um intervalo, que serão ajustados no decorrer das épocas."
   ]
  },
  {
   "cell_type": "code",
   "execution_count": 5,
   "metadata": {},
   "outputs": [],
   "source": [
    "def iniciar_pesos(inicio,fim):\n",
    "    pesos = np.array([random.uniform(inicio,fim),random.uniform(inicio,fim),random.uniform(inicio,fim)])\n",
    "    return pesos"
   ]
  },
  {
   "cell_type": "markdown",
   "metadata": {},
   "source": [
    "A função soma() realiza a soma ponderada das entradas e pesos fornecidos para o neurônio."
   ]
  },
  {
   "cell_type": "code",
   "execution_count": 6,
   "metadata": {},
   "outputs": [],
   "source": [
    "def soma(entradas,pesos):\n",
    "    return(np.dot(entradas,pesos))"
   ]
  },
  {
   "cell_type": "markdown",
   "metadata": {},
   "source": [
    "A função ativacao() verifica se o neurônio será ativado ou não."
   ]
  },
  {
   "cell_type": "code",
   "execution_count": 7,
   "metadata": {},
   "outputs": [],
   "source": [
    "def ativacao(saida):\n",
    "    if(saida >= 0):\n",
    "        return 1\n",
    "    else:\n",
    "        return 0"
   ]
  },
  {
   "cell_type": "markdown",
   "metadata": {},
   "source": [
    "A função ajusta() realiza o ajuste de pesos caso haja alguma ativação ou inercia indevida do neurônio."
   ]
  },
  {
   "cell_type": "code",
   "execution_count": 8,
   "metadata": {},
   "outputs": [],
   "source": [
    "def ajusta(pesos_atuais, yd, y, x):\n",
    "    taxa = 0.1\n",
    "    erro = (yd-y)\n",
    "    mult = taxa*erro\n",
    "    result = pesos + np.dot(mult,x)\n",
    "    return result"
   ]
  },
  {
   "cell_type": "code",
   "execution_count": null,
   "metadata": {},
   "outputs": [],
   "source": [
    "A função aprender() executa todo o array de treinamento do neurônio, realizando o ajuste dos pesos quando necessário."
   ]
  },
  {
   "cell_type": "code",
   "execution_count": 9,
   "metadata": {},
   "outputs": [],
   "source": [
    "def aprender(pesos):\n",
    "    n = len(training)\n",
    "\n",
    "    for i in range(0,n):\n",
    "        soma_saida = soma(np.array([-1, training[i,0], training[i,1]]),pesos) \n",
    "        y = ativacao(soma_saida)\n",
    "        \n",
    "        if(y != training[i,2]):\n",
    "            pesos = ajusta(pesos,training[i,2],y,np.array([-1, training[i,0], training[i,1]]))\n",
    "    return pesos"
   ]
  },
  {
   "cell_type": "markdown",
   "metadata": {},
   "source": [
    "O intervalo de variação dos pesos é definido."
   ]
  },
  {
   "cell_type": "code",
   "execution_count": 26,
   "metadata": {},
   "outputs": [],
   "source": [
    "pesos = iniciar_pesos(-0.5,0.5)"
   ]
  },
  {
   "cell_type": "markdown",
   "metadata": {},
   "source": [
    "Nesse loop acontecem as 100 épocas do neurônio, sendo que a cada execução o conjunto de teste é executado de forma aleatória."
   ]
  },
  {
   "cell_type": "code",
   "execution_count": 11,
   "metadata": {
    "tags": []
   },
   "outputs": [],
   "source": [
    "for i in range(0,100):\n",
    "    resultado = aprender(pesos)\n",
    "    pesos = resultado\n",
    "    np.random.shuffle(training)  "
   ]
  },
  {
   "cell_type": "markdown",
   "metadata": {},
   "source": [
    "## Realizando Testes e Validação"
   ]
  },
  {
   "cell_type": "markdown",
   "metadata": {},
   "source": [
    "**1**. A matriz de confusão prevista do neurônio é a seguinte:"
   ]
  },
  {
   "cell_type": "code",
   "execution_count": 14,
   "metadata": {
    "scrolled": true,
    "tags": []
   },
   "outputs": [
    {
     "name": "stdout",
     "output_type": "stream",
     "text": [
      "Essa é a matriz de confusão obtida do conjuntos de testes: \n",
      " [[ 74.  16.]\n",
      " [  0. 150.]]\n",
      "Como resultados obtivemos: \n",
      " Verdadeiro possitivo: 74 \n",
      " Falso Positivo: 16 \n",
      " Falso Negatio: 0 \n",
      " Falso Verdadeiro: 150\n"
     ]
    }
   ],
   "source": [
    "matriz_conf = np.zeros((2,2))\n",
    "for i in range(0,len(test)):\n",
    "    soma_saida = soma(np.array([-1, test[i,0], test[i,1]]),pesos) \n",
    "    y = ativacao(soma_saida)\n",
    "    \n",
    "    if(y==1 and test[i,2]==1):\n",
    "        matriz_conf[0][0]+=1\n",
    "    elif(y==1 and test[i,2]==0):\n",
    "        matriz_conf[0][1]+=1\n",
    "    elif(y==0 and test[i,2]==1):\n",
    "        matriz_conf[1][0]+=1\n",
    "    elif(y==0 and test[i,2]==0):\n",
    "        matriz_conf[1][1]+=1\n",
    "            \n",
    "print(\"Essa é a matriz de confusão obtida do conjuntos de testes: \\n\",matriz_conf)\n",
    "tp= matriz_conf[0][0]\n",
    "tf= matriz_conf[1][1]\n",
    "fp=matriz_conf[0][1]\n",
    "fn=matriz_conf[1][0]\n",
    "print(\"Como resultados obtivemos: \\n Verdadeiro possitivo:\",int(tp),\"\\n Falso Positivo:\",int(fp),\"\\n Falso Negatio:\",int(fn),\"\\n Falso Verdadeiro:\",int(tf))"
   ]
  },
  {
   "cell_type": "markdown",
   "metadata": {},
   "source": [
    "**2.** Baseada na matriz de confusão mostrada anteriormente, a acurácia apresentada é:"
   ]
  },
  {
   "cell_type": "code",
   "execution_count": 15,
   "metadata": {
    "tags": []
   },
   "outputs": [
    {
     "name": "stdout",
     "output_type": "stream",
     "text": [
      "A acuracia obtida foi de:  93.33333333333333 %\n"
     ]
    }
   ],
   "source": [
    "acuracia = ((tp+tf)/(tp+tf+fp+fn))\n",
    "\n",
    "print(\"A acuracia obtida foi de: \",acuracia*100,\"%\")"
   ]
  },
  {
   "cell_type": "markdown",
   "metadata": {},
   "source": [
    "**3.** Seguindo com as métricas de avaliação dos neurônio obtemos os seguintes valores para **precisão**, **revocação** e **F-Score**"
   ]
  },
  {
   "cell_type": "code",
   "execution_count": 22,
   "metadata": {
    "tags": []
   },
   "outputs": [
    {
     "name": "stdout",
     "output_type": "stream",
     "text": [
      "Os valores das métricas são: \n",
      " Precisão é: 82.22222222222221 \n",
      " Revocação é: 100.0 \n",
      " F-Score é: 90.2439024390244\n"
     ]
    }
   ],
   "source": [
    "prec = (tp/(tp+fp))\n",
    "rev= (tp/(tp+fn))\n",
    "fscore=(2*(prec*rev)/(prec+rev))\n",
    "\n",
    "print(\"Os valores das métricas são: \\n Precisão é:\",float(prec*100),\"\\n Revocação é:\",float(rev*100),\"\\n F-Score é:\",float(fscore*100))"
   ]
  },
  {
   "cell_type": "markdown",
   "metadata": {},
   "source": [
    "**4.** Segundo os resultados das métricas de avaliação, o desempenho do neurônio que foi construído neste projeto, demonstra uma boa precisão para encontrar resultados positivos, com a revocação comprovamos o que já se esperava, apesar do problema não ser linearmente separável, através da execução do algoritmo chegou-se a um resultado aproximado. Podemos comprovar por meio do f-score que resultou em 90%."
   ]
  },
  {
   "cell_type": "markdown",
   "metadata": {},
   "source": [
    "Depois do treinamento usaremos as saídas treinadas e as saídas de teste para gerar os gráficos."
   ]
  },
  {
   "cell_type": "code",
   "execution_count": 23,
   "metadata": {},
   "outputs": [
    {
     "ename": "AttributeError",
     "evalue": "module 'matplotlib.pyplot' has no attribute 'axline'",
     "output_type": "error",
     "traceback": [
      "\u001b[1;31m---------------------------------------------------------------------------\u001b[0m",
      "\u001b[1;31mAttributeError\u001b[0m                            Traceback (most recent call last)",
      "\u001b[1;32m<ipython-input-23-d1eaac27c759>\u001b[0m in \u001b[0;36m<module>\u001b[1;34m\u001b[0m\n\u001b[0;32m     22\u001b[0m \u001b[1;33m\u001b[0m\u001b[0m\n\u001b[0;32m     23\u001b[0m \u001b[0mplt\u001b[0m\u001b[1;33m.\u001b[0m\u001b[0mtitle\u001b[0m\u001b[1;33m(\u001b[0m\u001b[1;34m'Conjunto de entrada: Dados de treinamento'\u001b[0m\u001b[1;33m)\u001b[0m\u001b[1;33m\u001b[0m\u001b[1;33m\u001b[0m\u001b[0m\n\u001b[1;32m---> 24\u001b[1;33m \u001b[0mplt\u001b[0m\u001b[1;33m.\u001b[0m\u001b[0maxline\u001b[0m\u001b[1;33m(\u001b[0m\u001b[1;33m[\u001b[0m\u001b[0mx1\u001b[0m\u001b[1;33m,\u001b[0m\u001b[1;36m0\u001b[0m\u001b[1;33m]\u001b[0m\u001b[1;33m,\u001b[0m\u001b[1;33m[\u001b[0m\u001b[1;36m0\u001b[0m\u001b[1;33m,\u001b[0m\u001b[0mx2\u001b[0m\u001b[1;33m]\u001b[0m\u001b[1;33m,\u001b[0m\u001b[0mcolor\u001b[0m\u001b[1;33m=\u001b[0m\u001b[1;34m'green'\u001b[0m\u001b[1;33m)\u001b[0m\u001b[1;33m\u001b[0m\u001b[1;33m\u001b[0m\u001b[0m\n\u001b[0m\u001b[0;32m     25\u001b[0m \u001b[0mplt\u001b[0m\u001b[1;33m.\u001b[0m\u001b[0mshow\u001b[0m\u001b[1;33m(\u001b[0m\u001b[1;33m)\u001b[0m\u001b[1;33m\u001b[0m\u001b[1;33m\u001b[0m\u001b[0m\n\u001b[0;32m     26\u001b[0m \u001b[1;33m\u001b[0m\u001b[0m\n",
      "\u001b[1;31mAttributeError\u001b[0m: module 'matplotlib.pyplot' has no attribute 'axline'"
     ]
    },
    {
     "data": {
      "image/png": "[encoded data removed]",
      "text/plain": [
       "<Figure size 432x288 with 1 Axes>"
      ]
     },
     "metadata": {
      "needs_background": "light"
     },
     "output_type": "display_data"
    }
   ],
   "source": [
    "resultado_0x = np.array([])\n",
    "resultado_0y = np.array([])\n",
    "resultado_1x = np.array([])\n",
    "resultado_1y = np.array([])\n",
    "\n",
    "for i in range (len(training)):\n",
    "    if(training[i,2] == 0):\n",
    "        resultado_0x = np.append(resultado_0x,[training[i,0]])\n",
    "        resultado_0y = np.append(resultado_0y,[training[i,1]])\n",
    "    else:\n",
    "        resultado_1x = np.append(resultado_1x,[training[i,0]])\n",
    "        resultado_1y = np.append(resultado_1y, [training[i,1]])\n",
    "\n",
    "plt.scatter(resultado_1x,resultado_1y, color='blue')\n",
    "plt.plot()\n",
    "        \n",
    "plt.scatter(resultado_0x,resultado_0y, color='red')\n",
    "plt.plot()\n",
    "\n",
    "x2 = (pesos[0]/pesos[2])\n",
    "x1 = (pesos[0]/pesos[2])/(pesos[1]/pesos[2]) \n",
    "\n",
    "plt.title('Conjunto de entrada: Dados de treinamento')\n",
    "plt.axline([x1,0],[0,x2],color='green')\n",
    "plt.show()\n",
    "\n",
    "#------------------------------------\n",
    "\n",
    "resultado_0x = np.array([])\n",
    "resultado_0y = np.array([])\n",
    "resultado_1x = np.array([])\n",
    "resultado_1y = np.array([])\n",
    "\n",
    "for i in range (len(test)):\n",
    "    if(training[i,2] == 0):\n",
    "        resultado_0x = np.append(resultado_0x,[test[i,0]])\n",
    "        resultado_0y = np.append(resultado_0y,[test[i,1]])\n",
    "    else:\n",
    "        resultado_1x = np.append(resultado_1x,[test[i,0]])\n",
    "        resultado_1y = np.append(resultado_1y, [test[i,1]])\n",
    "\n",
    "plt.scatter(resultado_1x,resultado_1y, color='blue')\n",
    "plt.plot()\n",
    "        \n",
    "plt.scatter(resultado_0x,resultado_0y, color='red')\n",
    "plt.plot()\n",
    "\n",
    "x2 = (pesos[0]/pesos[2])\n",
    "x1 = (pesos[0]/pesos[2])/(pesos[1]/pesos[2]) \n",
    "\n",
    "plt.title('Conjunto de entrada: Dados de teste')\n",
    "plt.axline([x1,0],[0,x2],color='green')\n",
    "plt.show()\n"
   ]
  }
 ],
 "metadata": {
  "kernelspec": {
   "display_name": "Python 3",
   "language": "python",
   "name": "python3"
  },
  "language_info": {
   "codemirror_mode": {
    "name": "ipython",
    "version": 3
   },
   "file_extension": ".py",
   "mimetype": "text/x-python",
   "name": "python",
   "nbconvert_exporter": "python",
   "pygments_lexer": "ipython3",
   "version": "3.8.3"
  }
 },
 "nbformat": 4,
 "nbformat_minor": 4
}
